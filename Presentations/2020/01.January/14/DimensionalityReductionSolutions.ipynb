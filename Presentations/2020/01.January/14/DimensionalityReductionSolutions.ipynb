{
 "cells": [
  {
   "cell_type": "markdown",
   "metadata": {},
   "source": [
    "## Dimensionality Reduction"
   ]
  },
  {
   "cell_type": "markdown",
   "metadata": {},
   "source": [
    "### 1. What is Dimensionality Reduction?\n",
    "\n",
    "As data generation and collection keeps increasing, visualizing it and drawing inferences becomes more and more challenging. One of the most common ways of doing visualization is through charts. For instance, the relationship between two variables can be easily visualised through a plot.\n",
    "\n",
    "For a case in which we have, say 100 variables (p=100), we can have 100(100-1)/2 = 5000 different plots. In such cases where we have a large number of variables, it is better to select a subset of these variables (p<<100) which captures as much information as the original set of variables.\n",
    "\n",
    "For instance, we have weights of similar objects in Kg (X_1) and Pound (X_2). If we use both of these variables, they will convey similar information. So, it would make sense to use only one variable, i.e., we can convert the data from 2D to 1D.\n",
    "\n",
    "Reducing p dimensions of the data into a subset of k dimensions (k<<n). This is called dimensionality reduction."
   ]
  },
  {
   "cell_type": "markdown",
   "metadata": {},
   "source": [
    "### 2. Why is Dimensionality Reduction required?\n",
    "\n",
    "- Space required to store the data is reduced as the number of dimensions comes down.\n",
    "\n",
    "- Less dimensions lead to less computation/training time.\n",
    "\n",
    "- Some algorithms do not perform well for a large number of dimensions, hence reducing these dimensions needs to happen for these algorithms to be useful.\n",
    "\n",
    "- It takes care of multicollinearity by removing redundant features. For example, two variables – ‘time spent on treadmill in minutes’ and ‘calories burnt’ are highly correlated as the more time you spend running on a treadmill, the more calories you will burn. Hence, there is no point in storing both as just one of them does what you require.\n",
    "\n",
    "- It helps in visualizing data. As discussed earlier, it is very difficult to visualize data in higher dimensions so reducing our space to 2D or 3D may allow us to plot and observe patterns more clearly."
   ]
  },
  {
   "cell_type": "markdown",
   "metadata": {},
   "source": [
    "### 3. Common Dimensionality Reduction Techniques\n",
    "\n",
    "- Keeping only the most relevant variables from the original dataset (feature selection)\n",
    "\n",
    "- Finding a smaller set of new variables, each being a combination of the input variables, containing basically the same information as the input variables (dimensionality reduction)"
   ]
  },
  {
   "cell_type": "markdown",
   "metadata": {},
   "source": [
    "### Dataset description\n",
    "\n",
    "The 2013 sales data for 1559 products across 10 stores of a shop chain in different cities. The data may have missing values as some stores might not report all the data due to technical glitches.\n",
    "\n",
    "**Dimension:** 8523 items x 12 features for each item\n",
    "\n",
    "**Variable - Description**\n",
    "\n",
    "Item_Identifier - Unique product ID\n",
    "\n",
    "Item_Weight - Weight of product\n",
    "\n",
    "Item_Fat_Content - Whether the product is low fat or not\n",
    "\n",
    "Item_Visibility - The percentage of total display area of all products in a store allocated to the particular product\n",
    "\n",
    "Item_Type - The category to which the product belongs\n",
    "\n",
    "Item_MRP - Maximum Retail Price (list price) of the product\n",
    "\n",
    "Outlet_Identifier - Unique store ID\n",
    "\n",
    "Outlet_Establishment_Year - The year in which store was established\n",
    "\n",
    "Outlet_Size - The size of the store in terms of ground area covered\n",
    "\n",
    "Outlet_Location_Type - The type of city in which the store is located\n",
    "\n",
    "Outlet_Type - Whether the outlet is just a grocery store or some sort of supermarket\n",
    "\n",
    "Item_Outlet_Sales - Sales of the product in the particular store. [This is the outcome variable to be predicted.]"
   ]
  },
  {
   "cell_type": "code",
   "execution_count": 1,
   "metadata": {
    "ExecuteTime": {
     "end_time": "2020-01-19T12:35:10.694524Z",
     "start_time": "2020-01-19T12:35:09.622388Z"
    }
   },
   "outputs": [],
   "source": [
    "# import required libraries\n",
    "import pandas as pd\n",
    "import numpy as np\n",
    "import matplotlib.pyplot as plt"
   ]
  },
  {
   "cell_type": "code",
   "execution_count": 2,
   "metadata": {
    "ExecuteTime": {
     "end_time": "2020-01-19T12:35:10.728433Z",
     "start_time": "2020-01-19T12:35:10.696514Z"
    }
   },
   "outputs": [],
   "source": [
    "# read the data\n",
    "data = pd.read_csv(\"train.csv\")"
   ]
  },
  {
   "cell_type": "markdown",
   "metadata": {},
   "source": [
    "#### 3.1 Missing Value Ratio\n",
    "\n",
    "For a given dataset, the first naturally step is exploring the data. If the dataset has some missing values, it is recommended to find out the reason for these missing values and then impute them or drop the variables entirely which have missing values (using appropriate methods).\n",
    "\n",
    "If too many values are missing (more than 50%, for instance), should the missing values be inputed or should the variable be dropped? In many cases, dropping the variable is recommendable, since it will not infer much information about the data. To be more precise, a threshold value can be set and if the percentage of missing values in any variable is greater than the threshold, the variable is dropped."
   ]
  },
  {
   "cell_type": "code",
   "execution_count": 3,
   "metadata": {
    "ExecuteTime": {
     "end_time": "2020-01-19T12:35:10.771313Z",
     "start_time": "2020-01-19T12:35:10.732418Z"
    }
   },
   "outputs": [
    {
     "data": {
      "text/plain": [
       "Item_Identifier               0.000000\n",
       "Item_Weight                  17.165317\n",
       "Item_Fat_Content              0.000000\n",
       "Item_Visibility               0.000000\n",
       "Item_Type                     0.000000\n",
       "Item_MRP                      0.000000\n",
       "Outlet_Identifier             0.000000\n",
       "Outlet_Establishment_Year     0.000000\n",
       "Outlet_Size                  28.276428\n",
       "Outlet_Location_Type          0.000000\n",
       "Outlet_Type                   0.000000\n",
       "Item_Outlet_Sales             0.000000\n",
       "dtype: float64"
      ]
     },
     "execution_count": 3,
     "metadata": {},
     "output_type": "execute_result"
    }
   ],
   "source": [
    "# first, check the percentage of missing values in each variable\n",
    "missing_percentage = data.isnull().sum()/len(data)*100\n",
    "missing_percentage"
   ]
  },
  {
   "cell_type": "markdown",
   "metadata": {},
   "source": [
    "Depending on the dataset, a percentage threshold can be established and variables having more than that percentage of missing values can be droppped.\n",
    "\n",
    "We will work with a threshold of 20%."
   ]
  },
  {
   "cell_type": "code",
   "execution_count": 4,
   "metadata": {
    "ExecuteTime": {
     "end_time": "2020-01-19T12:35:10.783286Z",
     "start_time": "2020-01-19T12:35:10.773308Z"
    }
   },
   "outputs": [],
   "source": [
    "acceptable_features = missing_percentage[missing_percentage <= 20]\n",
    "data_acceptable = data[acceptable_features.index]"
   ]
  },
  {
   "cell_type": "markdown",
   "metadata": {},
   "source": [
    "#### 3.2 Low Variance Filter\n",
    "\n",
    "Consider a variable where all the observations have the same value, say 1. Using this variable has no benefit on the model, since the variance is null.\n",
    "\n",
    "Hence, it is a good idea to drop the variables having low variance as compared to other variables in the dataset. Variables with a low variance will not affect the target variable.\n",
    "\n",
    "**First, fill the missing values**; available options for numerical data: *mean, median, mode*."
   ]
  },
  {
   "cell_type": "code",
   "execution_count": 5,
   "metadata": {
    "ExecuteTime": {
     "end_time": "2020-01-19T12:35:11.173298Z",
     "start_time": "2020-01-19T12:35:10.788269Z"
    }
   },
   "outputs": [],
   "source": [
    "# fill missing values using the mean\n",
    "data_acceptable = data_acceptable.fillna(data_acceptable.mean())"
   ]
  },
  {
   "cell_type": "code",
   "execution_count": 6,
   "metadata": {
    "ExecuteTime": {
     "end_time": "2020-01-19T12:35:11.178225Z",
     "start_time": "2020-01-19T12:35:11.175233Z"
    }
   },
   "outputs": [],
   "source": [
    "# fill missing values using the median\n",
    "#data_acceptable = data_acceptable.fillna(data_acceptable.median())"
   ]
  },
  {
   "cell_type": "code",
   "execution_count": 7,
   "metadata": {
    "ExecuteTime": {
     "end_time": "2020-01-19T12:35:11.190192Z",
     "start_time": "2020-01-19T12:35:11.181217Z"
    }
   },
   "outputs": [],
   "source": [
    "# fill missing values using the mode\n",
    "#data_acceptable = data_acceptable.fillna(data_acceptable.mode()[0])"
   ]
  },
  {
   "cell_type": "code",
   "execution_count": 8,
   "metadata": {
    "ExecuteTime": {
     "end_time": "2020-01-19T12:35:11.210140Z",
     "start_time": "2020-01-19T12:35:11.194182Z"
    }
   },
   "outputs": [
    {
     "data": {
      "text/plain": [
       "Item_Identifier              0.0\n",
       "Item_Weight                  0.0\n",
       "Item_Fat_Content             0.0\n",
       "Item_Visibility              0.0\n",
       "Item_Type                    0.0\n",
       "Item_MRP                     0.0\n",
       "Outlet_Identifier            0.0\n",
       "Outlet_Establishment_Year    0.0\n",
       "Outlet_Location_Type         0.0\n",
       "Outlet_Type                  0.0\n",
       "Item_Outlet_Sales            0.0\n",
       "dtype: float64"
      ]
     },
     "execution_count": 8,
     "metadata": {},
     "output_type": "execute_result"
    }
   ],
   "source": [
    "# check if all missing values have been filled\n",
    "data_acceptable.isnull().sum()/len(data_acceptable)*100"
   ]
  },
  {
   "cell_type": "code",
   "execution_count": 9,
   "metadata": {
    "ExecuteTime": {
     "end_time": "2020-01-19T12:35:11.261005Z",
     "start_time": "2020-01-19T12:35:11.214129Z"
    }
   },
   "outputs": [
    {
     "data": {
      "text/plain": [
       "Item_Weight                  1.786012e+01\n",
       "Item_Visibility              2.662335e-03\n",
       "Item_MRP                     3.878184e+03\n",
       "Outlet_Establishment_Year    7.008637e+01\n",
       "Item_Outlet_Sales            2.912141e+06\n",
       "dtype: float64"
      ]
     },
     "execution_count": 9,
     "metadata": {},
     "output_type": "execute_result"
    }
   ],
   "source": [
    "# compute the variance of numerical variables\n",
    "variance = data_acceptable.var()\n",
    "variance"
   ]
  },
  {
   "cell_type": "code",
   "execution_count": 10,
   "metadata": {
    "ExecuteTime": {
     "end_time": "2020-01-19T12:35:11.275962Z",
     "start_time": "2020-01-19T12:35:11.263996Z"
    }
   },
   "outputs": [
    {
     "data": {
      "text/plain": [
       "Index(['Item_Identifier', 'Item_Weight', 'Item_Fat_Content', 'Item_Type',\n",
       "       'Item_MRP', 'Outlet_Identifier', 'Outlet_Establishment_Year',\n",
       "       'Outlet_Location_Type', 'Outlet_Type', 'Item_Outlet_Sales'],\n",
       "      dtype='object')"
      ]
     },
     "execution_count": 10,
     "metadata": {},
     "output_type": "execute_result"
    }
   ],
   "source": [
    "# drop the features having the variance lower than a given threshold, i.e. 10\n",
    "non_acceptable_features = variance[variance <= 10]\n",
    "data_useful = data_acceptable.drop(non_acceptable_features.index, axis = 1)\n",
    "data_useful.columns"
   ]
  },
  {
   "cell_type": "markdown",
   "metadata": {},
   "source": [
    "#### 3.3 High Correlation Filter\n",
    "\n",
    "High correlation between two variables means they have similar trends and are likely to carry similar information. This can bring down the performance of some models drastically (linear and logistic regression models, for instance).\n",
    "\n",
    "We compute the correlation between independent numerical variables that are numerical in nature. If the correlation coefficient crosses a certain threshold value, we can drop one of the variables (dropping a variable is highly subjective and should always be done keeping the domain in mind).\n",
    "\n",
    "**General guideline**: keep those variables having a decent or high correlation with the target variable.\n",
    "\n",
    "If we need to train a model for estimating one variable (called *dependent variable*, e.g. Item_Outlet_Sales), we should first eliminate it from the training dataset and save the remaining variables in a new dataframe (data_independent_variables)."
   ]
  },
  {
   "cell_type": "code",
   "execution_count": 11,
   "metadata": {
    "ExecuteTime": {
     "end_time": "2020-01-19T12:35:11.308875Z",
     "start_time": "2020-01-19T12:35:11.278956Z"
    }
   },
   "outputs": [
    {
     "data": {
      "text/html": [
       "<div>\n",
       "<style scoped>\n",
       "    .dataframe tbody tr th:only-of-type {\n",
       "        vertical-align: middle;\n",
       "    }\n",
       "\n",
       "    .dataframe tbody tr th {\n",
       "        vertical-align: top;\n",
       "    }\n",
       "\n",
       "    .dataframe thead th {\n",
       "        text-align: right;\n",
       "    }\n",
       "</style>\n",
       "<table border=\"1\" class=\"dataframe\">\n",
       "  <thead>\n",
       "    <tr style=\"text-align: right;\">\n",
       "      <th></th>\n",
       "      <th>Item_Weight</th>\n",
       "      <th>Item_MRP</th>\n",
       "      <th>Outlet_Establishment_Year</th>\n",
       "    </tr>\n",
       "  </thead>\n",
       "  <tbody>\n",
       "    <tr>\n",
       "      <th>Item_Weight</th>\n",
       "      <td>1.000000</td>\n",
       "      <td>0.024756</td>\n",
       "      <td>-0.008301</td>\n",
       "    </tr>\n",
       "    <tr>\n",
       "      <th>Item_MRP</th>\n",
       "      <td>0.024756</td>\n",
       "      <td>1.000000</td>\n",
       "      <td>0.005020</td>\n",
       "    </tr>\n",
       "    <tr>\n",
       "      <th>Outlet_Establishment_Year</th>\n",
       "      <td>-0.008301</td>\n",
       "      <td>0.005020</td>\n",
       "      <td>1.000000</td>\n",
       "    </tr>\n",
       "  </tbody>\n",
       "</table>\n",
       "</div>"
      ],
      "text/plain": [
       "                           Item_Weight  Item_MRP  Outlet_Establishment_Year\n",
       "Item_Weight                   1.000000  0.024756                  -0.008301\n",
       "Item_MRP                      0.024756  1.000000                   0.005020\n",
       "Outlet_Establishment_Year    -0.008301  0.005020                   1.000000"
      ]
     },
     "execution_count": 11,
     "metadata": {},
     "output_type": "execute_result"
    }
   ],
   "source": [
    "# eliminate the dependent variable and compute the correlation table\n",
    "data_independent_variables = data_useful.drop('Item_Outlet_Sales', axis = 1)\n",
    "data_independent_variables.corr()"
   ]
  },
  {
   "cell_type": "markdown",
   "metadata": {},
   "source": [
    "A *high correlation* between a pair of variables (features) is usually considered to be greater than 0.5-0.6 as an absolute value. Note that the considered dataset has no high correlation variables."
   ]
  },
  {
   "cell_type": "markdown",
   "metadata": {
    "ExecuteTime": {
     "end_time": "2020-01-12T17:04:48.237456Z",
     "start_time": "2020-01-12T17:04:48.232456Z"
    }
   },
   "source": [
    "#### 3.4 Random Forest\n",
    "\n",
    "Random Forest is one of the most widely used algorithms for feature selection. It helps select a smaller subset of features.\n",
    "\n",
    "The data must be converted into numeric form by applying one hot encoding, as Random Forest (Scikit-Learn Implementation) takes only numeric inputs.\n",
    "\n",
    "The ID variables (Item_Identifier and Outlet_Identifier) should be dropped as these are just unique numbers and hold no significant importance. Also, the dependent variable (Item_Outlet_Sales) should be dropped."
   ]
  },
  {
   "cell_type": "code",
   "execution_count": 12,
   "metadata": {
    "ExecuteTime": {
     "end_time": "2020-01-19T12:35:14.251006Z",
     "start_time": "2020-01-19T12:35:11.312865Z"
    }
   },
   "outputs": [
    {
     "data": {
      "text/plain": [
       "RandomForestRegressor(bootstrap=True, ccp_alpha=0.0, criterion='mse',\n",
       "                      max_depth=10, max_features='auto', max_leaf_nodes=None,\n",
       "                      max_samples=None, min_impurity_decrease=0.0,\n",
       "                      min_impurity_split=None, min_samples_leaf=1,\n",
       "                      min_samples_split=2, min_weight_fraction_leaf=0.0,\n",
       "                      n_estimators=100, n_jobs=None, oob_score=False,\n",
       "                      random_state=1, verbose=0, warm_start=False)"
      ]
     },
     "execution_count": 12,
     "metadata": {},
     "output_type": "execute_result"
    }
   ],
   "source": [
    "from sklearn.ensemble import RandomForestRegressor\n",
    "data_rf = data_useful.drop(['Item_Identifier', 'Outlet_Identifier', 'Item_Outlet_Sales'], axis = 1) \n",
    "model = RandomForestRegressor(random_state = 1, max_depth = 10)\n",
    "data_rf = pd.get_dummies(data_rf)\n",
    "model.fit(data_rf,data_useful.Item_Outlet_Sales)"
   ]
  },
  {
   "cell_type": "code",
   "execution_count": 13,
   "metadata": {
    "ExecuteTime": {
     "end_time": "2020-01-19T12:35:14.475406Z",
     "start_time": "2020-01-19T12:35:14.254001Z"
    }
   },
   "outputs": [
    {
     "data": {
      "image/png": "[encoded data removed]",
      "text/plain": [
       "<Figure size 432x288 with 1 Axes>"
      ]
     },
     "metadata": {
      "needs_background": "light"
     },
     "output_type": "display_data"
    }
   ],
   "source": [
    "features = data_rf.columns\n",
    "importances = model.feature_importances_\n",
    "indices = np.argsort(importances)[-9:]  # top 10 features\n",
    "plt.title('Feature Importances')\n",
    "plt.barh(range(len(indices)), importances[indices], color='b', align='center')\n",
    "plt.yticks(range(len(indices)), [features[i] for i in indices])\n",
    "plt.xlabel('Relative Importance')\n",
    "plt.show()"
   ]
  },
  {
   "cell_type": "markdown",
   "metadata": {},
   "source": [
    "#### 3.5 Backward Feature Elimination\n",
    "\n",
    "- Take all the *n* variables present in the dataset and train the model using them\n",
    "- Compute the performance of the model\n",
    "- Compute the performance of the model after eliminating each variable (*n* times), i.e., dropping one variable every time and training the model on the remaining *n-1* variables\n",
    "- Identify the variable whose removal has produced the smallest (or no) change in the performance of the model, and then drop that variable\n",
    "- Repeat this process until no variable can be dropped"
   ]
  },
  {
   "cell_type": "code",
   "execution_count": 14,
   "metadata": {
    "ExecuteTime": {
     "end_time": "2020-01-19T12:35:14.521280Z",
     "start_time": "2020-01-19T12:35:14.477399Z"
    }
   },
   "outputs": [
    {
     "name": "stdout",
     "output_type": "stream",
     "text": [
      "Selected features:\n",
      "[False  True  True  True]\n",
      "Features ranking:\n",
      "[2 1 1 1]\n",
      "Index(['Item_Weight', 'Item_Visibility', 'Item_MRP',\n",
      "       'Outlet_Establishment_Year'],\n",
      "      dtype='object')\n"
     ]
    }
   ],
   "source": [
    "from sklearn.linear_model import LinearRegression\n",
    "from sklearn.feature_selection import RFE\n",
    "\n",
    "#only use numeric features\n",
    "data_n = data_acceptable.select_dtypes(include = np.number)\n",
    "\n",
    "# separate the target and independent variable\n",
    "X = data_n.drop(columns = ['Item_Outlet_Sales'], axis=1)\n",
    "Y = data_n['Item_Outlet_Sales']\n",
    "\n",
    "# create the object of the model\n",
    "lreg = LinearRegression()\n",
    "\n",
    "# specify the number of  features to select (e.g., 3)\n",
    "rfe = RFE(lreg, 3)\n",
    "\n",
    "# fit the model\n",
    "rfe = rfe.fit(X, Y)\n",
    "\n",
    "print('Selected features:')\n",
    "print(rfe.support_)\n",
    "\n",
    "print('Features ranking:')\n",
    "print(rfe.ranking_)\n",
    "\n",
    "print(X.columns)"
   ]
  },
  {
   "cell_type": "markdown",
   "metadata": {},
   "source": [
    "#### 3.6 Forward Feature Selection\n",
    "\n",
    "- Start with a single feature. Essentially, the model is trained *n* number of times using each feature separately\n",
    "- The variable giving the best performance is selected as the starting variable\n",
    "- Repeat this process and add one variable at a time. The variable that produces the highest increase in performance is retained\n",
    "- Repeat this process until no significant improvement is seen in the model’s performance"
   ]
  },
  {
   "cell_type": "code",
   "execution_count": 15,
   "metadata": {
    "ExecuteTime": {
     "end_time": "2020-01-19T12:35:14.547212Z",
     "start_time": "2020-01-19T12:35:14.525270Z"
    }
   },
   "outputs": [
    {
     "data": {
      "text/plain": [
       "['Item_Visibility', 'Item_MRP', 'Outlet_Establishment_Year']"
      ]
     },
     "execution_count": 15,
     "metadata": {},
     "output_type": "execute_result"
    }
   ],
   "source": [
    "from sklearn.feature_selection import f_regression\n",
    "#df = pd.read_csv('train.csv')\n",
    "#df = df.drop(['Item_Identifier', 'Outlet_Identifier'], axis=1)\n",
    "ffs = f_regression(data_n,data.Item_Outlet_Sales)\n",
    "variable = [ ]\n",
    "for i in range(0,len(data_n.columns)-1):\n",
    "    if ffs[0][i] >=10:\n",
    "       variable.append(data_n.columns[i])\n",
    "variable"
   ]
  },
  {
   "cell_type": "markdown",
   "metadata": {},
   "source": [
    "This returns an array containing the F-values of the variables and the p-values corresponding to each F value. Refer to this link [https://www.statisticshowto.datasciencecentral.com/probability-and-statistics/f-statistic-value-test/] to learn more about F-values. For our purpose, we will select the variables having F-value greater than 10."
   ]
  }
 ],
 "metadata": {
  "kernelspec": {
   "display_name": "Python 3",
   "language": "python",
   "name": "python3"
  },
  "language_info": {
   "codemirror_mode": {
    "name": "ipython",
    "version": 3
   },
   "file_extension": ".py",
   "mimetype": "text/x-python",
   "name": "python",
   "nbconvert_exporter": "python",
   "pygments_lexer": "ipython3",
   "version": "3.7.6"
  },
  "toc": {
   "base_numbering": 1,
   "nav_menu": {},
   "number_sections": true,
   "sideBar": true,
   "skip_h1_title": false,
   "title_cell": "Table of Contents",
   "title_sidebar": "Contents",
   "toc_cell": false,
   "toc_position": {},
   "toc_section_display": true,
   "toc_window_display": false
  },
  "varInspector": {
   "cols": {
    "lenName": 16,
    "lenType": 16,
    "lenVar": 40
   },
   "kernels_config": {
    "python": {
     "delete_cmd_postfix": "",
     "delete_cmd_prefix": "del ",
     "library": "var_list.py",
     "varRefreshCmd": "print(var_dic_list())"
    },
    "r": {
     "delete_cmd_postfix": ") ",
     "delete_cmd_prefix": "rm(",
     "library": "var_list.r",
     "varRefreshCmd": "cat(var_dic_list()) "
    }
   },
   "types_to_exclude": [
    "module",
    "function",
    "builtin_function_or_method",
    "instance",
    "_Feature"
   ],
   "window_display": false
  }
 },
 "nbformat": 4,
 "nbformat_minor": 2
}
