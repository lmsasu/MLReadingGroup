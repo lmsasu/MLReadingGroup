{
 "cells": [
  {
   "cell_type": "markdown",
   "metadata": {},
   "source": [
    "# Adam \n",
    "Presented during ML reading group, 2019-11-19.\n",
    "\n",
    "Author: Olteanu Mihaela, olteanu.miha@gmail.com"
   ]
  },
  {
   "cell_type": "markdown",
   "metadata": {
    "ExecuteTime": {
     "end_time": "2019-11-05T18:01:04.782951Z",
     "start_time": "2019-11-05T18:01:04.728909Z"
    }
   },
   "source": [
    "The [Adam paper](https://arxiv.org/pdf/1412.6980) \n",
    "\n",
    "The Adam method combines the advantages of two other methods: AdaGrad (Duchi et al., 2011) and RMSProp (Tieleman & Hinton, 2012):\n",
    "- it works well with sparse gradients (AdaGrad)\n",
    "- it works well with on-line and non-stationary settings (RMSProp)\n",
    "\n",
    "The Adam method computes the adaptive learning rates from estimates of first and second moments of gradients. The first and second moments of gradients are estimated using exponentially moving averages with hyper-parameters $\\beta_{1}, \\beta_{2} \\in [0, 1)$ decay rates of these moving averages.\n",
    "\n",
    "The advantages of the Adam method are:\n",
    "- the magnitudes of parameter updates are invariant to rescaling of the gradient\n",
    "- its stepsize are approximately bounded by the stepsize hyperparameter\n",
    "- it does not require a stationary objective\n",
    "- it works with sparse gradients\n",
    "- it naturally performs a form of stepsize annealing\n",
    "\n",
    "\n",
    "\n",
    "\n",
    "\n",
    "\n"
   ]
  },
  {
   "cell_type": "markdown",
   "metadata": {
    "ExecuteTime": {
     "end_time": "2019-11-11T14:45:48.468503Z",
     "start_time": "2019-11-11T14:45:48.460524Z"
    }
   },
   "source": [
    "## The algorithm\n",
    "\n",
    "***\n",
    "\n",
    "**Algorithm 1:** \n",
    "\n",
    "$g_{t}^2$  indicates the elementwise square of $g_{t}$\n",
    "\n",
    "Good default settings for the tested machine learning problems are $\\alpha = 0.001$, $\\beta_{1} = 0.9$, $\\beta_{2} = 0.999$ and $\\epsilon = 10^{-8} $\n",
    "\n",
    "All operations on vectors are element-wise.\n",
    "With $ \\beta_{1}^t$ and $\\beta_{2}^t$ we denote $\\beta_{1}$ and $\\beta_{2}$ to the power $t$\n",
    "\n",
    "***\n",
    "**Require:** $\\alpha$ Stepsize  \n",
    "**Require:** $\\beta_{1}, \\beta_{2} \\in [0, 1)$ : Exponential decay rates for the moment estimates  \n",
    "**Require** $f(\\theta)$ : Stochastic objective function with parameters $\\theta$  \n",
    "**Require** $\\theta_0$ : Initial parameter vector  \n",
    "$\\;\\;\\;\\;$ $m_{0}  \\leftarrow 0$ (Initialize 1st moment vector)  \n",
    "$\\;\\;\\;\\;$ $v_{0}  \\leftarrow 0$ (Initialize 2nd moment vector)  \n",
    "$\\;\\;\\;\\;$ $t  \\leftarrow 0$ (Initialize timestep)  \n",
    "$\\;\\;\\;\\;$ **while** $\\theta_{t}$ not converged **do**:  \n",
    "$\\;\\;\\;\\;\\;\\;\\;\\;$ $t \\leftarrow t+1$  \n",
    "$\\;\\;\\;\\;\\;\\;\\;\\;$ $g_{t} \\leftarrow \\nabla(f(\\theta_{t-1}))$ (Get gradients w.r.t. stochastic objective at timestep $t$)  \n",
    "$\\;\\;\\;\\;\\;\\;\\;\\;$ $m_{t} \\leftarrow \\beta_{1} \\cdot m_{t-1}+(1-\\beta_{1}) \\cdot g_{t}$  (Update biased first moment estimate)  \n",
    "$\\;\\;\\;\\;\\;\\;\\;\\;$ $v_{t} \\leftarrow \\beta_{2} \\cdot v_{t-1}+(1-\\beta_{2}) \\cdot g_{t}^2$  (Update biased second raw moment estimate)  \n",
    "$\\;\\;\\;\\;\\;\\;\\;\\;$ $\\hat{m_{t}} \\leftarrow \\dfrac{m_{t}}{(1-\\beta_{1}^t)}$  (Compute bias-corrected first moment estimate)  \n",
    "$\\;\\;\\;\\;\\;\\;\\;\\;$ $\\hat{v_{t}} \\leftarrow \\dfrac{v_{t}}{(1-\\beta_{2}^t)} $  (Compute bias-corrected second raw moment estimate)  \n",
    "$\\;\\;\\;\\;\\;\\;\\;\\;$ $\\theta_{t} \\leftarrow \\theta_{t-1} - \\dfrac{\\alpha \\cdot \\hat{m_{t}}}{\\sqrt{\\hat{v_{t}}}+\\varepsilon } $  (Update parameters)  \n",
    "$\\;\\;\\;\\;$**end while**  \n",
    "$\\;\\;\\;\\;$**return** $\\theta_{t}$ (Resulting parameters)  \n",
    "    \n",
    "***\n",
    "* Adam uses estimations of first and second moments of gradient to adapt the learning rate for each weight of the neural network.\n",
    "* The algorithm updates exponential moving averages of the gradient ($m_{t}$) and the squared gradient\n",
    "($v_{t}$) where the hyper-parameters $\\beta_{1}, \\beta_{2} \\in [0, 1)$ control the exponential decay rates of these moving\n",
    "averages. \n",
    "* The moving averages themselves are estimates of the 1st moment (the mean) and the 2nd raw moment (the uncentered variance) of the gradient. \n",
    "* However, these moving averages are initialized as (vectors of) 0’s, leading to moment estimates that are biased towards zero, especially during the initial timesteps, and especially when the decay rates are small (i.e. the $\\beta_{s}$ are close to 1). The good news is that this initialization bias can be easily counteracted, resulting in bias-corrected estimates $\\hat{m_{t}}$ and $\\hat{v_{t}}$\n",
    "\n",
    "* The efficiency of the algorithm 1 can be improved with the following rule:\n",
    "\n",
    "    $ \\alpha_{t} = \\alpha \\cdot \\dfrac{\\sqrt(1-\\beta_{2}^t)} {1-\\beta_{1}^t}$ and $\\theta_{t} := \\theta_{t-1} - \\dfrac{\\alpha_{t} \\cdot m_{t}}{\\sqrt{v_{t}}+\\hat{\\varepsilon }} $  \n",
    "    \n",
    "        \n",
    "        "
   ]
  },
  {
   "cell_type": "markdown",
   "metadata": {},
   "source": [
    "## The update rule\n",
    "\n",
    "* Assuming $\\varepsilon = 0$, the effective step taken in parameter space at timestep $t$ is $\\Delta{t} = \\alpha \\cdot \\dfrac{\\hat{m_{t}}} {\\hat{v_{t}}}$\n",
    "* The effective step size has two bounds:\n",
    "    * In the most severe case of sparsity: when a gradient has been zero at all timesteps except at the current timestep\n",
    "        * $\\mid \\Delta{t} \\mid \\le \\dfrac{\\alpha \\cdot (1-\\beta_{1})}{\\sqrt{1-\\beta_{2}}}$, in the case $(1-\\beta_{1}) \\gt \\sqrt{1-\\beta_{2}}$\n",
    "    * Otherwise\n",
    "        * $\\mid \\Delta{t} \\mid \\le \\alpha$\n",
    " \n",
    "* In more common scenarios, we will have $\\mid \\dfrac{ \\hat{m_{t}} } { \\sqrt{\\hat{v_{t}}} } \\mid  \\; \\approx  1$ since  $\\mid \\dfrac{ E[g_{t}] } { E[g_{t}^2] } \\mid \\le 1$\n",
    "* The effective magnitude of the steps taken in parameter space at each timestep are approximately bounded by the stepsize setting $\\alpha$, i.e., $|\\Delta{t}| \\le \\alpha$\n",
    "\n",
    "\n",
    "* With a slight abuse of terminology, we will call the ratio $\\dfrac{ \\hat{m_{t}} } { \\sqrt{\\hat{v_{t}}} }$ the signal-to-noise ratio (SNR).\n",
    "    * With a smaller SNR the effective stepsize $\\Delta{t}$ will be closer to zero. This is a desirable property, since a smaller SNR means that there is greater uncertainty about whether the direction of $\\hat{m_{t}}$ corresponds to the direction of the true gradient. For example, the SNR value typically becomes closer to 0 towards an optimum, leading to smaller effective steps in parameter space: a form of automatic annealing.\n",
    " \n",
    " \n",
    "* The effective stepsize $\\Delta{t}$ is also invariant to the scale of the gradients; rescaling the gradients $g$ with factor $c$ will scale $\\hat{m_{t}}$ with a factor $c$ and $\\hat{v_{t}}$ with a factor $c^2$, which cancel out: $ \\dfrac{(c \\cdot \\hat{m_{t}})} {\\sqrt{c^2 \\cdot \\hat{v_{t}}}} = \\dfrac{\\hat{m_{t}}}{\\sqrt{\\hat{v_{t}}}} $"
   ]
  },
  {
   "cell_type": "markdown",
   "metadata": {},
   "source": [
    "## Initialization bias correction\n",
    "\n",
    "Adam uses estimations of first and second moments of gradient to adapt the learning rate for each weight of the neural network. The algorithm updates exponential moving averages of the gradient ($m_{t}$) and the squared gradient\n",
    "($v_{t}$) where the hyper-parameters $\\beta_{1}, \\beta_{2} \\in [0, 1)$ control the exponential decay rates of these moving averages. The moving averages themselves are estimates of the 1st moment (the mean) and the 2nd raw moment (the uncentered variance) of the gradient.\n",
    "Since $m_{t}$ and $v_{t}$ are the estimates of the first moment and the second moment of the gradient, respectively, and the first moment and second moment are the estimates used to adapt the learning rate for each weight of the neural network, we want to ensure that both sets of estimators estimate the same expected value, hence the following equalities must be true:\n",
    "\n",
    "$$E[m_{t}] = E[g{t}]$$\n",
    "$$E[v_{t}] = E[g{t}^2]$$\n",
    "\n",
    "Expected values of the estimators should equal the parameter we're trying to estimate, as it happens. If these properties would held true, it means we have **unbiased estimators**.\n",
    "\n",
    "\n",
    "Looking at some values of $m$:  \n",
    "$m_{0} = 0$  \n",
    "$m_{1} = \\beta_{1} \\cdot m_{0} + (1- \\beta_{1}) \\cdot g_{1} = (1- \\beta_{1}) \\cdot g_{1}$  \n",
    "$m_{2} = \\beta_{1} \\cdot m_{1} + (1- \\beta_{1}) \\cdot g_{2} = \\beta_{1} \\cdot (1- \\beta_{1}) \\cdot g_{1} + (1- \\beta_{1}) \\cdot g_{2} $  \n",
    "$m_{3} = \\beta_{1} \\cdot m_{2} + (1- \\beta_{1}) \\cdot g_{3} = \\beta_{1} ^ 2 \\cdot (1- \\beta_{1}) \\cdot g_{1} + \\beta_{1} \\cdot (1- \\beta_{1}) \\cdot g_{2} + (1- \\beta_{1}) \\cdot g_{3}$  \n",
    "\n",
    "we can rewrite the formula for our moving average:\n",
    "\n",
    "$$ m_{t} = (1-\\beta_{1}) \\cdot \\sum_{i=0}^{t}{\\beta_{1} ^ (t-i) \\cdot g_{i} }$$\n",
    "\n",
    "Now, we can take a look at the expected value of $m_{t}$, to see how it relates to the true first moment, so we can correct for the discrepancy of the two :\n",
    "\n",
    "$$ E[m_{t}] = E[(1-\\beta_{1}) \\cdot \\sum_{i=0}^{t}{\\beta_{1} ^ (t-i) \\cdot g_{i} }]$$  \n",
    "\n",
    "$$ E[m_{t}] = E[g_{t}](1-\\beta_{1}) \\cdot \\sum_{i=0}^{t}{\\beta_{1} ^ (t-i) } + C$$\n",
    "\n",
    "$$ E[m_{t}] = E[g_{t}](1-\\beta_{1}^t)  + C$$\n",
    "\n",
    "Since we have a biased estimator $E[m_{t}]$, we have to correct it, so that the expected value is the one we want. This step is usually referred to as bias correction. The final formulas for our estimator will be as follows:\n",
    "\n",
    "$$ \\hat{m_{t}} = \\dfrac{m_{t}}{1-\\beta_{1}^t}$$\n",
    "$$ \\hat{v_{t}} = \\dfrac{v_{t}}{1-\\beta_{2}^t}$$"
   ]
  },
  {
   "cell_type": "markdown",
   "metadata": {
    "ExecuteTime": {
     "end_time": "2019-11-17T18:34:17.621156Z",
     "start_time": "2019-11-17T18:34:17.618155Z"
    }
   },
   "source": [
    "## Example"
   ]
  },
  {
   "cell_type": "code",
   "execution_count": 27,
   "metadata": {
    "ExecuteTime": {
     "end_time": "2019-11-18T19:43:47.898554Z",
     "start_time": "2019-11-18T19:43:47.893558Z"
    }
   },
   "outputs": [
    {
     "name": "stdout",
     "output_type": "stream",
     "text": [
      "Numpy version: 1.16.5\n"
     ]
    }
   ],
   "source": [
    "#%matplotlib notebook\n",
    "%matplotlib inline\n",
    "import numpy as np\n",
    "import matplotlib as mpl\n",
    "import matplotlib.pyplot as plt\n",
    "from mpl_toolkits.mplot3d import Axes3D\n",
    "\n",
    "\n",
    "print(f'Numpy version: {np.__version__}')"
   ]
  },
  {
   "cell_type": "markdown",
   "metadata": {},
   "source": [
    "### Generate data"
   ]
  },
  {
   "cell_type": "code",
   "execution_count": 28,
   "metadata": {
    "ExecuteTime": {
     "end_time": "2019-11-18T19:43:47.952590Z",
     "start_time": "2019-11-18T19:43:47.945204Z"
    }
   },
   "outputs": [],
   "source": [
    "from scipy.sparse import random #to generate sparse data\n",
    "\n",
    "np.random.seed(10) # for reproducibility\n",
    "m_data = 100\n",
    "n_data = 4 #number of features of the data\n",
    "_scales = np.array([1,10, 10,1 ]) # play with these... \n",
    "\n",
    "_parameters = np.array([3, 0.5, 1, 7])\n",
    "\n",
    "def gen_data(m, n, scales, parameters, add_noise=True):\n",
    "    # Adam as Adagrad is designed especially for sparse data.\n",
    "    # produce: X, a 2d tensor with m lines and n columns\n",
    "    # and X[:, k] uniformly distributed in [-scale_k, scale_k] with the first and the last column containing sparse data \n",
    "    #(approx 75% of the elements are 0)\n",
    "    #\n",
    "    # To generate a sparse data matrix with m rows and n columns\n",
    "    # and random values use S = random(m, n, density=0.25).A, where density = density of the data. S will be the \n",
    "    # resulting matrix \n",
    "    # more information at https://docs.scipy.org/doc/scipy/reference/generated/scipy.sparse.random.html\n",
    "    #\n",
    "    # To obtain X - generate a random matrix with X[:, k] uniformly distributed in [-scale_k, scale_k]\n",
    "    # set X[:, 0] and X[:, -1] to 0 and add matrix S with the sparse data.\n",
    "    #\n",
    "    # let y be X@parameters.T + epsilon, with epsilon ~ N(0, 1); y is a vector with m elements\n",
    "    # parameters - the ideal weights, used to produce output values y\n",
    "    #\n",
    "    X = np.random.rand(m,n) *2*scales - scales\n",
    "    X[:, 0] = 0\n",
    "    X[:, -1] = 0\n",
    "    S = random(m, n, density=0.25).A\n",
    "    X = X + S\n",
    "    y = X@parameters.T + np.random.randn(m)\n",
    "    y = np.reshape(y, (-1, 1))\n",
    "    return X, y"
   ]
  },
  {
   "cell_type": "code",
   "execution_count": 29,
   "metadata": {
    "ExecuteTime": {
     "end_time": "2019-11-18T19:43:47.968554Z",
     "start_time": "2019-11-18T19:43:47.953561Z"
    }
   },
   "outputs": [
    {
     "name": "stdout",
     "output_type": "stream",
     "text": [
      "[[ 1.28428476e-01 -9.58496101e+00  3.03724491e+00  5.66402849e-01]\n",
      " [ 0.00000000e+00 -5.50406709e+00 -6.03874270e+00  0.00000000e+00]\n",
      " [ 0.00000000e+00 -8.23320372e+00  3.70719637e+00  0.00000000e+00]\n",
      " [ 0.00000000e+00  2.43845268e-01  6.25241923e+00  0.00000000e+00]\n",
      " [ 0.00000000e+00 -4.16247864e+00  8.35548245e+00  0.00000000e+00]\n",
      " [ 0.00000000e+00 -7.15659905e+00 -2.41271256e+00  0.00000000e+00]\n",
      " [ 0.00000000e+00 -8.76767173e-01  2.35533957e+00  0.00000000e+00]\n",
      " [ 0.00000000e+00  2.81450742e+00  6.92397429e+00  0.00000000e+00]\n",
      " [ 0.00000000e+00 -3.61527822e+00 -8.19081301e+00  0.00000000e+00]\n",
      " [ 0.00000000e+00  6.57362653e+00 -9.06207361e+00  0.00000000e+00]\n",
      " [ 0.00000000e+00  6.38573991e+00 -6.02104921e+00  0.00000000e+00]\n",
      " [ 8.70617442e-01  5.09295383e+00 -4.08076586e+00  0.00000000e+00]\n",
      " [ 0.00000000e+00 -6.69968205e+00 -1.60699768e+00  0.00000000e+00]\n",
      " [ 2.25025940e-01 -5.99602037e+00 -2.31771103e+00  0.00000000e+00]\n",
      " [ 0.00000000e+00 -8.73909058e-01  6.52245688e+00  0.00000000e+00]\n",
      " [ 0.00000000e+00  8.05663521e+00  6.91158976e-01  3.11049320e-01]\n",
      " [ 6.99230218e-01 -2.85636483e+00 -8.29397744e+00  1.20066250e-01]\n",
      " [ 4.35560520e-01  5.47660592e+00 -9.20081583e+00  0.00000000e+00]\n",
      " [ 0.00000000e+00  2.72982286e+00 -3.07305700e+00  0.00000000e+00]\n",
      " [ 0.00000000e+00  5.26481174e+00  7.56193285e+00  0.00000000e+00]\n",
      " [ 0.00000000e+00  4.93441801e-01  1.95673296e+00  4.72786595e-01]\n",
      " [ 0.00000000e+00 -9.49200436e+00 -3.54633767e+00  9.36627065e-01]\n",
      " [ 5.66848670e-01  1.31014040e+00  8.75673187e-03  0.00000000e+00]\n",
      " [ 0.00000000e+00  9.57638292e+00 -3.20584313e+00  0.00000000e+00]\n",
      " [ 0.00000000e+00 -1.18452350e+00 -3.63454389e+00  0.00000000e+00]\n",
      " [ 7.66727043e-01  8.03185874e+00 -8.63805453e+00  3.99611848e-01]\n",
      " [ 8.33878745e-01  4.37205621e+00  1.72043960e+00  0.00000000e+00]\n",
      " [ 2.20553036e-01  1.26381369e+00 -3.93728612e+00  5.17770641e-01]\n",
      " [ 6.59370483e-01 -6.81612533e+00 -8.99044660e+00  0.00000000e+00]\n",
      " [ 0.00000000e+00 -5.71328276e+00  8.14395285e+00  0.00000000e+00]\n",
      " [ 0.00000000e+00  5.04992340e+00 -7.76788679e+00  0.00000000e+00]\n",
      " [ 0.00000000e+00  2.71701689e+00 -7.04759615e+00  0.00000000e+00]\n",
      " [ 0.00000000e+00 -9.02743987e+00 -4.80746491e+00  0.00000000e+00]\n",
      " [ 0.00000000e+00 -1.50338618e+00  8.44465574e+00  0.00000000e+00]\n",
      " [ 0.00000000e+00  6.69417700e-01 -9.70279951e+00  0.00000000e+00]\n",
      " [ 0.00000000e+00  5.83513993e+00  1.23114721e+00  0.00000000e+00]\n",
      " [ 0.00000000e+00  4.17699653e+00 -7.02933097e+00  0.00000000e+00]\n",
      " [ 0.00000000e+00 -7.90760511e+00 -1.20789524e+00  0.00000000e+00]\n",
      " [ 0.00000000e+00  6.38071728e+00 -8.19786531e+00  4.69963406e-01]\n",
      " [ 0.00000000e+00  2.31111174e+00 -6.03798686e+00  1.11351480e-01]\n",
      " [ 9.75478840e-01 -9.24884648e+00 -9.23008644e+00  0.00000000e+00]\n",
      " [ 0.00000000e+00  1.14590812e+00 -2.29772801e+00  0.00000000e+00]\n",
      " [ 0.00000000e+00  2.79623787e+00  5.65429636e+00  0.00000000e+00]\n",
      " [ 2.00911953e-01  5.62121235e+00  2.39389944e+00  3.75041373e-01]\n",
      " [ 0.00000000e+00 -6.47915733e+00 -8.29715875e-01  6.03607471e-01]\n",
      " [ 0.00000000e+00  6.91102632e+00 -6.50372210e+00  0.00000000e+00]\n",
      " [ 0.00000000e+00  4.85349155e+00 -8.66049294e-01  7.21664254e-01]\n",
      " [ 0.00000000e+00 -3.22641734e+00 -8.10681919e+00  0.00000000e+00]\n",
      " [ 0.00000000e+00 -5.88099483e+00  2.45394163e+00  6.81639561e-01]\n",
      " [ 0.00000000e+00  6.30635176e+00 -2.97572994e+00  0.00000000e+00]\n",
      " [ 0.00000000e+00  5.69733437e+00 -2.13161775e+00  0.00000000e+00]\n",
      " [ 0.00000000e+00 -4.54964959e+00  6.58803840e+00  0.00000000e+00]\n",
      " [ 0.00000000e+00  2.88653230e+00 -5.73626869e+00  0.00000000e+00]\n",
      " [ 0.00000000e+00 -3.26135909e+00  7.69127763e+00  4.74423672e-02]\n",
      " [ 0.00000000e+00 -9.01609684e+00 -6.30746324e+00  0.00000000e+00]\n",
      " [ 0.00000000e+00  8.38569350e+00 -8.43009761e-01  4.88265796e-01]\n",
      " [ 0.00000000e+00 -1.93060319e+00 -9.51134710e+00  0.00000000e+00]\n",
      " [ 0.00000000e+00  4.18211928e+00 -2.88455314e+00  2.54448656e-01]\n",
      " [ 0.00000000e+00  7.62950343e-01  1.18173033e+00  0.00000000e+00]\n",
      " [ 0.00000000e+00 -1.42505342e+00  3.62241299e-01  4.42430961e-01]\n",
      " [ 0.00000000e+00 -2.07116242e+00  5.86546466e+00  2.98494435e-01]\n",
      " [ 1.61042178e-01  6.80494632e+00  1.38542799e+00  0.00000000e+00]\n",
      " [ 0.00000000e+00 -5.42435334e+00  2.29403426e+00  0.00000000e+00]\n",
      " [ 0.00000000e+00  2.55123705e+00  6.42432952e+00  0.00000000e+00]\n",
      " [ 2.06067511e-01  2.02103782e+00  9.07080981e+00  0.00000000e+00]\n",
      " [ 0.00000000e+00 -7.55328158e+00 -8.25515416e-01  0.00000000e+00]\n",
      " [ 0.00000000e+00 -6.13492535e+00 -9.06521546e+00  0.00000000e+00]\n",
      " [ 0.00000000e+00  6.55806351e+00  1.01772887e+01  0.00000000e+00]\n",
      " [ 0.00000000e+00 -7.06462371e+00 -7.72079382e+00  0.00000000e+00]\n",
      " [ 0.00000000e+00 -3.57715937e+00  2.76070163e+00  0.00000000e+00]\n",
      " [ 6.56868150e-01 -3.24490706e+00  7.96048618e+00  2.13258235e-01]\n",
      " [ 0.00000000e+00 -1.18477010e+00  8.73920010e+00  0.00000000e+00]\n",
      " [ 0.00000000e+00 -6.87231918e+00 -8.26061182e+00  9.25358895e-01]\n",
      " [ 0.00000000e+00  1.68111745e+00  7.56932357e+00  0.00000000e+00]\n",
      " [ 9.70500250e-01  2.90455491e+00 -8.86743594e+00  0.00000000e+00]\n",
      " [ 8.49714595e-02 -6.21941094e+00  6.76473462e+00  0.00000000e+00]\n",
      " [ 0.00000000e+00 -6.44422503e+00 -8.34759417e+00  0.00000000e+00]\n",
      " [ 0.00000000e+00  3.92616544e+00 -5.90476772e+00  0.00000000e+00]\n",
      " [ 0.00000000e+00 -8.39994438e+00  9.26715011e+00  0.00000000e+00]\n",
      " [ 9.35356900e-01 -8.34725974e+00 -3.09526420e+00  0.00000000e+00]\n",
      " [ 0.00000000e+00 -5.84145804e+00 -6.39318116e+00  0.00000000e+00]\n",
      " [ 0.00000000e+00 -4.71605148e+00  2.06635691e-01  0.00000000e+00]\n",
      " [ 0.00000000e+00 -1.00970445e+00  2.02880752e+00  5.91105935e-01]\n",
      " [ 0.00000000e+00  4.41599804e+00  1.01612128e+00  0.00000000e+00]\n",
      " [ 0.00000000e+00 -6.30856527e+00  2.82673574e+00  3.80136209e-02]\n",
      " [ 0.00000000e+00  2.52287338e+00  1.99614283e-01  0.00000000e+00]\n",
      " [ 0.00000000e+00  7.09374326e-01 -3.14713749e+00  0.00000000e+00]\n",
      " [ 0.00000000e+00  8.91879035e+00  2.89640857e+00  0.00000000e+00]\n",
      " [ 7.50011376e-01  8.06343479e+00 -8.93081739e+00  0.00000000e+00]\n",
      " [ 6.02331842e-01  8.61280010e+00  8.68143801e+00  4.38024101e-01]\n",
      " [ 0.00000000e+00 -7.66241121e+00  6.12763435e+00  0.00000000e+00]\n",
      " [ 7.76805449e-01 -2.85073604e+00  6.33893988e+00  7.71342899e-01]\n",
      " [ 0.00000000e+00  5.09447132e+00 -4.54947648e+00  0.00000000e+00]\n",
      " [ 9.81989522e-01  1.13241385e+00 -1.18525885e+00  0.00000000e+00]\n",
      " [ 0.00000000e+00  5.12764716e+00 -9.25355982e+00  0.00000000e+00]\n",
      " [ 9.68976460e-01 -7.11350855e+00  2.28392467e+00  0.00000000e+00]\n",
      " [ 0.00000000e+00 -3.56868835e+00 -8.64289378e+00  0.00000000e+00]\n",
      " [ 0.00000000e+00 -6.78294601e+00 -4.64223629e+00  0.00000000e+00]\n",
      " [ 0.00000000e+00 -6.96627151e+00 -9.08545612e+00  0.00000000e+00]\n",
      " [ 0.00000000e+00  6.50929057e+00 -1.15378473e+00  0.00000000e+00]]\n",
      "[[  2.0024736 ]\n",
      " [ -6.6694714 ]\n",
      " [ -2.43545494]\n",
      " [  4.33951713]\n",
      " [  5.95881325]\n",
      " [ -5.68591574]\n",
      " [  2.0358535 ]\n",
      " [  8.26592253]\n",
      " [ -8.58164616]\n",
      " [ -4.90478044]\n",
      " [ -4.25251071]\n",
      " [  3.29224634]\n",
      " [ -2.26898874]\n",
      " [ -3.58260985]\n",
      " [  6.55072984]\n",
      " [  7.82513886]\n",
      " [ -7.24300833]\n",
      " [ -4.16990542]\n",
      " [ -1.78616165]\n",
      " [  7.96925265]\n",
      " [  5.21768494]\n",
      " [ -0.89471119]\n",
      " [  2.54687286]\n",
      " [  0.91195781]\n",
      " [ -3.89737864]\n",
      " [  0.65691508]\n",
      " [  6.45566764]\n",
      " [  1.24756009]\n",
      " [-10.41615208]\n",
      " [  5.14639228]\n",
      " [ -4.30241788]\n",
      " [ -4.13246337]\n",
      " [ -8.47866984]\n",
      " [  7.23655925]\n",
      " [ -7.81483692]\n",
      " [  3.05844197]\n",
      " [ -4.04251292]\n",
      " [ -6.19476221]\n",
      " [ -1.06966314]\n",
      " [ -5.1019856 ]\n",
      " [ -9.65191646]\n",
      " [ -2.10656506]\n",
      " [  7.81272642]\n",
      " [  9.29811209]\n",
      " [  0.89853123]\n",
      " [ -2.50316116]\n",
      " [  7.97039694]\n",
      " [-10.49050576]\n",
      " [  4.16254498]\n",
      " [  0.15999857]\n",
      " [  0.46929628]\n",
      " [  4.31380324]\n",
      " [ -5.97022422]\n",
      " [  6.62998753]\n",
      " [-10.87680885]\n",
      " [  8.00641106]\n",
      " [-10.53002665]\n",
      " [  0.4227351 ]\n",
      " [  0.9277499 ]\n",
      " [  3.46386573]\n",
      " [  7.72178422]\n",
      " [  5.26929615]\n",
      " [ -0.7254132 ]\n",
      " [  6.56171771]\n",
      " [ 11.07089748]\n",
      " [ -3.53630748]\n",
      " [-12.19065404]\n",
      " [ 11.47558689]\n",
      " [-10.17153586]\n",
      " [  0.56926885]\n",
      " [ 10.69790793]\n",
      " [  8.80244795]\n",
      " [ -4.65272321]\n",
      " [  8.43087792]\n",
      " [ -3.58940664]\n",
      " [  4.32021797]\n",
      " [-12.69034642]\n",
      " [ -5.64588293]\n",
      " [  5.16202517]\n",
      " [ -4.3180381 ]\n",
      " [ -8.19561253]\n",
      " [ -1.32998579]\n",
      " [  4.09818321]\n",
      " [  2.2249444 ]\n",
      " [  0.25579068]\n",
      " [  1.32798135]\n",
      " [ -2.4784993 ]\n",
      " [  8.13143279]\n",
      " [ -3.57118809]\n",
      " [ 17.78136899]\n",
      " [  1.91749245]\n",
      " [ 11.38595428]\n",
      " [ -2.87278321]\n",
      " [  1.02600309]\n",
      " [ -6.958641  ]\n",
      " [  0.31297435]\n",
      " [-11.35389443]\n",
      " [ -6.89797032]\n",
      " [-13.38002989]\n",
      " [  2.79790438]]\n"
     ]
    }
   ],
   "source": [
    "X, y = gen_data(m_data, n_data, _scales, _parameters)\n",
    "print(X)\n",
    "print(y)"
   ]
  },
  {
   "cell_type": "markdown",
   "metadata": {},
   "source": [
    "### Define error function, gradient, inference"
   ]
  },
  {
   "cell_type": "code",
   "execution_count": 30,
   "metadata": {
    "ExecuteTime": {
     "end_time": "2019-11-18T19:43:47.999555Z",
     "start_time": "2019-11-18T19:43:47.996554Z"
    }
   },
   "outputs": [],
   "source": [
    "def model_estimate(X, w):\n",
    "    '''Computes the linear regression estimation on the dataset X, using coefficients w\n",
    "    :param X: 2d tensor with m_data lines and n_data columns\n",
    "    :param w: a 1d tensor with n_data coefficients (no intercept)\n",
    "    :return: a 1d tensor with m_data elements y_hat = w @X.T\n",
    "    '''\n",
    "    w = w.reshape(-1, 1)\n",
    "    y_hat = X@w\n",
    "    return y_hat "
   ]
  },
  {
   "cell_type": "code",
   "execution_count": 31,
   "metadata": {
    "ExecuteTime": {
     "end_time": "2019-11-18T19:43:48.014649Z",
     "start_time": "2019-11-18T19:43:48.001556Z"
    }
   },
   "outputs": [],
   "source": [
    "def J(X, y, w):\n",
    "    \"\"\"Computes the mean squared error of model. See the picture from last week's sheet.\n",
    "    :param X: input values, of shape m_data x n_data\n",
    "    :param y: ground truth, column vector with m_data values\n",
    "    :param w: column with n_data coefficients for the linear form \n",
    "    :return: a scalar value >= 0\n",
    "    :use the same formula as in the exercise from last week\n",
    "    \"\"\"\n",
    "    w = w.reshape(-1, 1)\n",
    "    expr = (X@w - y)\n",
    "    err = np.asscalar(1.0/(2 * X.shape[0]) * expr.T @ expr)\n",
    "    return err"
   ]
  },
  {
   "cell_type": "code",
   "execution_count": 32,
   "metadata": {
    "ExecuteTime": {
     "end_time": "2019-11-18T19:43:48.026553Z",
     "start_time": "2019-11-18T19:43:48.016558Z"
    }
   },
   "outputs": [],
   "source": [
    "def gradient(X, y, w):\n",
    "    '''Commputes the gradients to be used for gradient descent. \n",
    "    :param X: 2d tensor with training data\n",
    "    :param y: 1d tensor with y.shape[0] == W.shape[0]\n",
    "    :param w: 1d tensor with current values of the coefficients\n",
    "    :return: gradients to be used for gradient descent. \n",
    "    :use the same formula as in the exercise from last week\n",
    "    '''\n",
    "    n = len(y)\n",
    "    w = w.reshape(-1, 1)\n",
    "    grad = 1.0 / n * X.T @ (X@w - y)\n",
    "    return grad## implement"
   ]
  },
  {
   "cell_type": "markdown",
   "metadata": {},
   "source": [
    "### Momentum algorithm"
   ]
  },
  {
   "cell_type": "code",
   "execution_count": 33,
   "metadata": {
    "ExecuteTime": {
     "end_time": "2019-11-18T19:43:48.057556Z",
     "start_time": "2019-11-18T19:43:48.051558Z"
    }
   },
   "outputs": [],
   "source": [
    "#The function from last week for comparison\n",
    "def gd_with_momentum(X, y, w_init, eta=1e-1, gamma = 0.9, thresh = 0.001):\n",
    "    \"\"\"Applies gradient descent with momentum coefficient\n",
    "    :params: as in gd_no_momentum\n",
    "    :param gamma: momentum coefficient\n",
    "    :param thresh: the threshold for gradient norm (to stop iterations)\n",
    "    :return: the list of succesive errors and the found w* vector \n",
    "    \"\"\"\n",
    "    w = w_init.reshape(-1, 1)\n",
    "    w_err=[]\n",
    "   \n",
    "    delta = np.zeros_like(w)\n",
    "    while True:\n",
    "        grad = gradient(X, y, w)\n",
    "        err = J(X, y, w)\n",
    "        w_err.append(err)\n",
    "        w_nou = w + gamma * delta - eta * grad\n",
    "        delta = w_nou - w\n",
    "        w = w_nou\n",
    "       \n",
    "        if np.linalg.norm(grad) < thresh :\n",
    "            break;\n",
    "    return w_err, w"
   ]
  },
  {
   "cell_type": "code",
   "execution_count": 34,
   "metadata": {
    "ExecuteTime": {
     "end_time": "2019-11-18T19:43:50.918557Z",
     "start_time": "2019-11-18T19:43:48.059552Z"
    }
   },
   "outputs": [],
   "source": [
    "w_init = np.array([0, 0, 0, 0])\n",
    "errors_momentum, w_best = gd_with_momentum(X, y, w_init,0.0001, 0.9)"
   ]
  },
  {
   "cell_type": "code",
   "execution_count": 35,
   "metadata": {
    "ExecuteTime": {
     "end_time": "2019-11-18T19:43:50.923555Z",
     "start_time": "2019-11-18T19:43:50.920557Z"
    }
   },
   "outputs": [
    {
     "name": "stdout",
     "output_type": "stream",
     "text": [
      "Momentum: How many iterations were made: 102146\n"
     ]
    }
   ],
   "source": [
    "print(f'Momentum: How many iterations were made: {len(errors_momentum)}')"
   ]
  },
  {
   "cell_type": "code",
   "execution_count": 36,
   "metadata": {
    "ExecuteTime": {
     "end_time": "2019-11-18T19:43:50.936583Z",
     "start_time": "2019-11-18T19:43:50.925552Z"
    }
   },
   "outputs": [
    {
     "data": {
      "text/plain": [
       "array([[2.96488751],\n",
       "       [0.48443821],\n",
       "       [0.9629436 ],\n",
       "       [7.32967655]])"
      ]
     },
     "execution_count": 36,
     "metadata": {},
     "output_type": "execute_result"
    }
   ],
   "source": [
    "w_best"
   ]
  },
  {
   "cell_type": "code",
   "execution_count": 37,
   "metadata": {
    "ExecuteTime": {
     "end_time": "2019-11-18T19:43:51.122551Z",
     "start_time": "2019-11-18T19:43:50.937553Z"
    }
   },
   "outputs": [
    {
     "data": {
      "text/plain": [
       "Text(0.5, 1.0, 'Optimization with momentum')"
      ]
     },
     "execution_count": 37,
     "metadata": {},
     "output_type": "execute_result"
    },
    {
     "data": {
      "image/png": "[encoded data removed]",
      "text/plain": [
       "<Figure size 432x288 with 1 Axes>"
      ]
     },
     "metadata": {
      "needs_background": "light"
     },
     "output_type": "display_data"
    }
   ],
   "source": [
    "fig, axes = plt.subplots()\n",
    "axes.plot(list(range(len(errors_momentum))), errors_momentum)\n",
    "axes.set_xlabel('Epochs')\n",
    "axes.set_ylabel('Error')\n",
    "axes.set_title('Optimization with momentum')"
   ]
  },
  {
   "cell_type": "markdown",
   "metadata": {},
   "source": [
    "### Apply AdaGrad and report resulting $\\eta$'s"
   ]
  },
  {
   "cell_type": "code",
   "execution_count": 38,
   "metadata": {
    "ExecuteTime": {
     "end_time": "2019-11-18T19:43:51.130551Z",
     "start_time": "2019-11-18T19:43:51.123551Z"
    }
   },
   "outputs": [],
   "source": [
    "def ada_grad(X, y, w_init, eta_init=1e-1,  eps = 0.001, thresh = 0.001):\n",
    "    '''Iterates with gradient descent. algorithm\n",
    "    :param X: 2d tensor with data\n",
    "    :param y: 1d tensor, ground truth \n",
    "    :param w_init: 1d tensor with the X.shape[1] initial coefficients\n",
    "    :param eta_init: the initial learning rate hyperparameter\n",
    "    :param eps: the epsilon value from the AdaGrad formula\n",
    "    :param thresh: the threshold for gradient norm (to stop iterations)\n",
    "    :return: the list of succesive errors w_err, the found w - the estimated feature vector \n",
    "    :and rates the learning rates after the final iteration \n",
    "    '''\n",
    "     \n",
    "    w = w_init.reshape(-1, 1)\n",
    "    w_err=[]\n",
    "   \n",
    "    cum_sq_grad = np.zeros(w.shape)\n",
    "    rates = np.zeros(w.shape)+eta_init\n",
    "    while True:\n",
    "        grad = gradient(X, y, w)      \n",
    "        err = J(X, y, w)\n",
    "        w_err.append(err)\n",
    "        w = w - rates * grad\n",
    "        cum_sq_grad += grad**2\n",
    "        rates = eta_init/np.sqrt(eps+cum_sq_grad)\n",
    "        \n",
    "        if np.linalg.norm(grad) < thresh :\n",
    "            break;\n",
    "    return w_err, w, rates"
   ]
  },
  {
   "cell_type": "code",
   "execution_count": 39,
   "metadata": {
    "ExecuteTime": {
     "end_time": "2019-11-18T19:43:51.421553Z",
     "start_time": "2019-11-18T19:43:51.132554Z"
    }
   },
   "outputs": [
    {
     "name": "stdout",
     "output_type": "stream",
     "text": [
      "[[0.01515786]\n",
      " [0.00157473]\n",
      " [0.00021369]\n",
      " [0.01046079]]\n"
     ]
    }
   ],
   "source": [
    "w_init = np.array([0,0,0,0])\n",
    "adaGerr, w_ada_best, rates = ada_grad(X, y, w_init)\n",
    "print(rates)"
   ]
  },
  {
   "cell_type": "code",
   "execution_count": 40,
   "metadata": {
    "ExecuteTime": {
     "end_time": "2019-11-18T19:43:51.428552Z",
     "start_time": "2019-11-18T19:43:51.423635Z"
    }
   },
   "outputs": [
    {
     "name": "stdout",
     "output_type": "stream",
     "text": [
      "AdaGrad: How many iterations were made: 9106\n"
     ]
    }
   ],
   "source": [
    "print(f'AdaGrad: How many iterations were made: {len(adaGerr)}')"
   ]
  },
  {
   "cell_type": "code",
   "execution_count": 41,
   "metadata": {
    "ExecuteTime": {
     "end_time": "2019-11-18T19:43:51.441591Z",
     "start_time": "2019-11-18T19:43:51.430551Z"
    }
   },
   "outputs": [
    {
     "data": {
      "text/plain": [
       "array([[2.9633901 ],\n",
       "       [0.48443559],\n",
       "       [0.96293089],\n",
       "       [7.32943788]])"
      ]
     },
     "execution_count": 41,
     "metadata": {},
     "output_type": "execute_result"
    }
   ],
   "source": [
    "w_ada_best"
   ]
  },
  {
   "cell_type": "code",
   "execution_count": 42,
   "metadata": {
    "ExecuteTime": {
     "end_time": "2019-11-18T19:43:51.591552Z",
     "start_time": "2019-11-18T19:43:51.443558Z"
    }
   },
   "outputs": [
    {
     "data": {
      "text/plain": [
       "Text(0.5, 1.0, 'Optimization with AdaGrad')"
      ]
     },
     "execution_count": 42,
     "metadata": {},
     "output_type": "execute_result"
    },
    {
     "data": {
      "image/png": "[encoded data removed]",
      "text/plain": [
       "<Figure size 432x288 with 1 Axes>"
      ]
     },
     "metadata": {
      "needs_background": "light"
     },
     "output_type": "display_data"
    }
   ],
   "source": [
    "fig, axes = plt.subplots()\n",
    "axes.plot(list(range(len(adaGerr))),adaGerr)\n",
    "axes.set_xlabel('Epochs')\n",
    "axes.set_ylabel('Error')\n",
    "axes.set_title('Optimization with AdaGrad')"
   ]
  },
  {
   "cell_type": "markdown",
   "metadata": {},
   "source": [
    "### Apply Adam and report resulting parameters"
   ]
  },
  {
   "cell_type": "code",
   "execution_count": 43,
   "metadata": {
    "ExecuteTime": {
     "end_time": "2019-11-18T19:43:51.600554Z",
     "start_time": "2019-11-18T19:43:51.592557Z"
    }
   },
   "outputs": [],
   "source": [
    "def adam(X, y, w_init, step_size = 0.001, beta_1=0.9, beta_2=0.999,  eps = 1e-8, thresh = 0.001):\n",
    "    '''Iterates with gradient descent. algorithm\n",
    "    :param X: 2d tensor with data\n",
    "    :param y: 1d tensor, ground truth \n",
    "    :param w_init: 1d tensor with the X.shape[1] initial coefficients\n",
    "    :param step_size: the step size hyperparameter\n",
    "    :param beta_1: Exponential decay rate for the 1st moment estimate (mean)\n",
    "    :param beta_1: Exponential decay rate for the 2nd moment estimate (uncentered variance)\n",
    "    :param eps: the epsilon value from the Adam formula (avoid division by zero)\n",
    "    :param thresh: the threshold for gradient norm (to stop iterations)\n",
    "    :return: the list of succesive errors w_err, the found w - the estimated feature vector \n",
    "    :and rates the learning rates after the final iteration \n",
    "    '''\n",
    "    w = w_init.reshape(-1, 1)\n",
    "    w_err=[]\n",
    "    t = 0\n",
    "    m = np.zeros(w.shape)\n",
    "    v = np.zeros(w.shape)\n",
    "    while True:\n",
    "        t += 1\n",
    "        grad = gradient(X, y, w)      \n",
    "        err = J(X, y, w)\n",
    "        w_err.append(err)\n",
    "        #Update biased first moment estimate\n",
    "        #Update biased second raw moment estimate\n",
    "        #Compute bias-corrected first moment estimate)\n",
    "        #Compute bias-corrected second raw moment estimate)\n",
    "        #Update parameters\n",
    "        w = w + delta_w\n",
    "        \n",
    "        if np.linalg.norm(grad) < thresh :\n",
    "            break;\n",
    "    return w_err, w, delta_w"
   ]
  },
  {
   "cell_type": "code",
   "execution_count": 44,
   "metadata": {
    "ExecuteTime": {
     "end_time": "2019-11-18T19:43:52.138551Z",
     "start_time": "2019-11-18T19:43:51.601557Z"
    }
   },
   "outputs": [
    {
     "name": "stdout",
     "output_type": "stream",
     "text": [
      "[[-7.04761038e-06]\n",
      " [ 1.25145312e-07]\n",
      " [-7.27710076e-09]\n",
      " [ 4.12973934e-05]]\n"
     ]
    }
   ],
   "source": [
    "w_init = np.array([0,0,0,0])\n",
    "adamErr, w_adam_best, delta_w = adam(X, y, w_init)\n",
    "print(delta_w)"
   ]
  },
  {
   "cell_type": "code",
   "execution_count": 45,
   "metadata": {
    "ExecuteTime": {
     "end_time": "2019-11-18T19:43:52.144551Z",
     "start_time": "2019-11-18T19:43:52.139551Z"
    }
   },
   "outputs": [
    {
     "name": "stdout",
     "output_type": "stream",
     "text": [
      "Adam: How many iterations were made: 11197\n"
     ]
    }
   ],
   "source": [
    "print(f'Adam: How many iterations were made: {len(adamErr)}')"
   ]
  },
  {
   "cell_type": "code",
   "execution_count": 46,
   "metadata": {
    "ExecuteTime": {
     "end_time": "2019-11-18T19:43:52.155552Z",
     "start_time": "2019-11-18T19:43:52.145552Z"
    }
   },
   "outputs": [
    {
     "data": {
      "text/plain": [
       "array([[2.96173056],\n",
       "       [0.4844352 ],\n",
       "       [0.96291422],\n",
       "       [7.32962175]])"
      ]
     },
     "execution_count": 46,
     "metadata": {},
     "output_type": "execute_result"
    }
   ],
   "source": [
    "w_adam_best"
   ]
  },
  {
   "cell_type": "code",
   "execution_count": 47,
   "metadata": {
    "ExecuteTime": {
     "end_time": "2019-11-18T19:43:52.301551Z",
     "start_time": "2019-11-18T19:43:52.156551Z"
    }
   },
   "outputs": [
    {
     "data": {
      "text/plain": [
       "Text(0.5, 1.0, 'Optimization with Adam')"
      ]
     },
     "execution_count": 47,
     "metadata": {},
     "output_type": "execute_result"
    },
    {
     "data": {
      "image/png": "[encoded data removed]",
      "text/plain": [
       "<Figure size 432x288 with 1 Axes>"
      ]
     },
     "metadata": {
      "needs_background": "light"
     },
     "output_type": "display_data"
    }
   ],
   "source": [
    "fig, axes = plt.subplots()\n",
    "axes.plot(list(range(len(adamErr))),adamErr)\n",
    "axes.set_xlabel('Epochs')\n",
    "axes.set_ylabel('Error')\n",
    "axes.set_title('Optimization with Adam')"
   ]
  },
  {
   "cell_type": "markdown",
   "metadata": {},
   "source": [
    "## Adamax algorithm\n",
    "***\n",
    "\n",
    "**Algorithm 2:** AdaMax, a variant of Adam based on the infinity norm. \n",
    "Good default settings for the tested machine learning problems are $\\alpha = 0.002, \\beta_{1} = 0.9$  and  \n",
    "$\\beta_{2} = 0.999$. With $\\beta_{1}^t$ we denote $\\beta_{1}$ to the power $t$. Here, $(\\dfrac{\\alpha} {(1 - \\beta_{1}^t)}\n",
    ")$ is the learning rate with the bias-correction term for the first moment. All operations on vectors are element-wise.\n",
    "\n",
    "***\n",
    "**Require:** $\\alpha$ Stepsize  \n",
    "**Require:** $\\beta_{1}, \\beta_{2} \\in [0, 1)$ : Exponential decay rates for the moment estimates  \n",
    "**Require** $f(\\theta)$ : Stochastic objective function with parameters $\\theta$  \n",
    "**Require** $\\theta_0$ : Initial parameter vector  \n",
    "$\\;\\;\\;\\;$ $m_{0}  \\leftarrow 0$ (Initialize 1st moment vector)  \n",
    "$\\;\\;\\;\\;$ $u_{0}  \\leftarrow 0$ (Initialize the exponentially weighted infinity norm)  \n",
    "$\\;\\;\\;\\;$ $t  \\leftarrow 0$ (Initialize timestep)  \n",
    "$\\;\\;\\;\\;$ **while** $\\theta_{0}$ not converged **do**:  \n",
    "$\\;\\;\\;\\;\\;\\;\\;\\;$ $t \\leftarrow t+1$  \n",
    "$\\;\\;\\;\\;\\;\\;\\;\\;$ $g_{t} \\leftarrow \\nabla(f_{t}(\\theta_{t-1}))$ (Get gradients w.r.t. stochastic objective at timestep $t$)  \n",
    "$\\;\\;\\;\\;\\;\\;\\;\\;$ $m_{t} \\leftarrow \\beta_{1} \\cdot m_{t-1}+(1-\\beta_{1}) \\cdot g_{t}$  (Update biased first moment estimate)  \n",
    "$\\;\\;\\;\\;\\;\\;\\;\\;$ $u_{t} \\leftarrow max(\\beta_{2} \\cdot u_{t-1}, \\mid g_{t} \\mid )$  (Update the exponentially weighted infinity norm)   \n",
    "$\\;\\;\\;\\;\\;\\;\\;\\;$ $\\theta_{t} \\leftarrow \\theta_{t-1} - \\dfrac{\\alpha} {(1 - \\beta_{1}^t)} \\cdot \\dfrac{m_{t}}{u_{t}} $  (Update parameters)  \n",
    "$\\;\\;\\;\\;$**end while**  \n",
    "$\\;\\;\\;\\;$**return** $\\theta_{t}$ (Resulting parameters)  \n",
    "    \n",
    "***"
   ]
  },
  {
   "cell_type": "markdown",
   "metadata": {},
   "source": [
    "### Apply Adamax and report resulting parameters"
   ]
  },
  {
   "cell_type": "code",
   "execution_count": 48,
   "metadata": {
    "ExecuteTime": {
     "end_time": "2019-11-18T19:43:52.309555Z",
     "start_time": "2019-11-18T19:43:52.302589Z"
    }
   },
   "outputs": [],
   "source": [
    "def adamax(X, y, w_init, step_size = 0.001, beta_1=0.9, beta_2=0.999,  eps = 1e-8, thresh = 0.001):\n",
    "    '''Iterates with gradient descent. algorithm\n",
    "    :param X: 2d tensor with data\n",
    "    :param y: 1d tensor, ground truth \n",
    "    :param w_init: 1d tensor with the X.shape[1] initial coefficients\n",
    "    :param step_size: the step size hyperparameter\n",
    "    :param beta_1: Exponential decay rate for the 1st moment estimate (mean)\n",
    "    :param beta_1: Exponential decay rate for the 2nd moment estimate (uncentered variance)\n",
    "    :param eps: the epsilon value from the Adam formula (avoid division by zero)\n",
    "    :param thresh: the threshold for gradient norm (to stop iterations)\n",
    "    :return: the list of succesive errors w_err, the found w - the estimated feature vector \n",
    "    :and rates the learning rates after the final iteration \n",
    "    '''\n",
    "    w = w_init.reshape(-1, 1)\n",
    "    w_err=[]\n",
    "    t = 0\n",
    "    m = np.zeros_like(w)\n",
    "    u = np.zeros_like(w)\n",
    "    while True:\n",
    "        t += 1\n",
    "        grad = gradient(X, y, w)      \n",
    "        err = J(X, y, w)\n",
    "        w_err.append(err)\n",
    "        #Update biased first moment estimate\n",
    "        #Compute bias-corrected first moment estimate)\n",
    "        #Update biased second raw moment estimate\n",
    "        #Update parameters\n",
    "        w = w + delta_w\n",
    "        \n",
    "        if np.linalg.norm(grad) < thresh :\n",
    "            break;\n",
    "    return w_err, w, delta_w"
   ]
  },
  {
   "cell_type": "code",
   "execution_count": 49,
   "metadata": {
    "ExecuteTime": {
     "end_time": "2019-11-18T19:43:52.597552Z",
     "start_time": "2019-11-18T19:43:52.310555Z"
    }
   },
   "outputs": [
    {
     "name": "stdout",
     "output_type": "stream",
     "text": [
      "[[-1.42342929e-05]\n",
      " [ 2.63065640e-07]\n",
      " [-9.95276640e-09]\n",
      " [ 8.67333678e-05]]\n"
     ]
    }
   ],
   "source": [
    "w_init = np.array([0,0,0,0])\n",
    "adamaxErr, w_adamax_best, delta_w = adamax(X, y, w_init)\n",
    "print(delta_w)"
   ]
  },
  {
   "cell_type": "code",
   "execution_count": 50,
   "metadata": {
    "ExecuteTime": {
     "end_time": "2019-11-18T19:43:52.603550Z",
     "start_time": "2019-11-18T19:43:52.598556Z"
    }
   },
   "outputs": [
    {
     "name": "stdout",
     "output_type": "stream",
     "text": [
      "AdaMax: How many iterations were made: 7935\n"
     ]
    }
   ],
   "source": [
    "print(f'AdaMax: How many iterations were made: {len(adamaxErr)}')"
   ]
  },
  {
   "cell_type": "code",
   "execution_count": 51,
   "metadata": {
    "ExecuteTime": {
     "end_time": "2019-11-18T19:43:52.614561Z",
     "start_time": "2019-11-18T19:43:52.606552Z"
    }
   },
   "outputs": [
    {
     "data": {
      "text/plain": [
       "array([[2.96160818],\n",
       "       [0.48443541],\n",
       "       [0.9629132 ],\n",
       "       [7.32970685]])"
      ]
     },
     "execution_count": 51,
     "metadata": {},
     "output_type": "execute_result"
    }
   ],
   "source": [
    "w_adamax_best"
   ]
  },
  {
   "cell_type": "code",
   "execution_count": 52,
   "metadata": {
    "ExecuteTime": {
     "end_time": "2019-11-18T19:43:52.778573Z",
     "start_time": "2019-11-18T19:43:52.615556Z"
    }
   },
   "outputs": [
    {
     "data": {
      "text/plain": [
       "Text(0.5, 1.0, 'Optimization with Adamax')"
      ]
     },
     "execution_count": 52,
     "metadata": {},
     "output_type": "execute_result"
    },
    {
     "data": {
      "image/png": "[encoded data removed]",
      "text/plain": [
       "<Figure size 432x288 with 1 Axes>"
      ]
     },
     "metadata": {
      "needs_background": "light"
     },
     "output_type": "display_data"
    }
   ],
   "source": [
    "fig, axes = plt.subplots()\n",
    "axes.plot(list(range(len(adamaxErr))),adamaxErr)\n",
    "axes.set_xlabel('Epochs')\n",
    "axes.set_ylabel('Error')\n",
    "axes.set_title('Optimization with Adamax')"
   ]
  },
  {
   "cell_type": "markdown",
   "metadata": {},
   "source": [
    "# Bibliography\n",
    "* Diederik P. Kingma, Jimmy Lei Ba, [ADAM: A METHOD FOR STOCHASTIC OPTIMIZATION](https://arxiv.org/pdf/1412.6980)\n",
    "* Sebastian Ruder, [An overview of gradient descent optimization algorithms](https://ruder.io/optimizing-gradient-descent/)\n",
    "* Vitaly Bushaev, [Adam — latest trends in deep learning optimization](https://towardsdatascience.com/adam-latest-trends-in-deep-learning-optimization-6be9a291375c)"
   ]
  },
  {
   "cell_type": "code",
   "execution_count": null,
   "metadata": {},
   "outputs": [],
   "source": []
  }
 ],
 "metadata": {
  "kernelspec": {
   "display_name": "Python 3",
   "language": "python",
   "name": "python3"
  },
  "language_info": {
   "codemirror_mode": {
    "name": "ipython",
    "version": 3
   },
   "file_extension": ".py",
   "mimetype": "text/x-python",
   "name": "python",
   "nbconvert_exporter": "python",
   "pygments_lexer": "ipython3",
   "version": "3.7.0"
  },
  "latex_envs": {
   "LaTeX_envs_menu_present": true,
   "autoclose": false,
   "autocomplete": true,
   "bibliofile": "biblio.bib",
   "cite_by": "apalike",
   "current_citInitial": 1,
   "eqLabelWithNumbers": true,
   "eqNumInitial": 1,
   "hotkeys": {
    "equation": "Ctrl-E",
    "itemize": "Ctrl-I"
   },
   "labels_anchors": false,
   "latex_user_defs": false,
   "report_style_numbering": false,
   "user_envs_cfg": false
  },
  "notify_time": "5",
  "toc": {
   "base_numbering": 1,
   "nav_menu": {},
   "number_sections": true,
   "sideBar": true,
   "skip_h1_title": false,
   "title_cell": "Table of Contents",
   "title_sidebar": "Contents",
   "toc_cell": false,
   "toc_position": {
    "height": "calc(100% - 180px)",
    "left": "10px",
    "top": "150px",
    "width": "290.712px"
   },
   "toc_section_display": true,
   "toc_window_display": true
  },
  "varInspector": {
   "cols": {
    "lenName": 16,
    "lenType": 16,
    "lenVar": 40
   },
   "kernels_config": {
    "python": {
     "delete_cmd_postfix": "",
     "delete_cmd_prefix": "del ",
     "library": "var_list.py",
     "varRefreshCmd": "print(var_dic_list())"
    },
    "r": {
     "delete_cmd_postfix": ") ",
     "delete_cmd_prefix": "rm(",
     "library": "var_list.r",
     "varRefreshCmd": "cat(var_dic_list()) "
    }
   },
   "types_to_exclude": [
    "module",
    "function",
    "builtin_function_or_method",
    "instance",
    "_Feature"
   ],
   "window_display": false
  }
 },
 "nbformat": 4,
 "nbformat_minor": 2
}
