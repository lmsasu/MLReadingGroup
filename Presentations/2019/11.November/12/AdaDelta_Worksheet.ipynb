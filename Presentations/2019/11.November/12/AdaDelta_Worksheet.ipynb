{
 "cells": [
  {
   "cell_type": "markdown",
   "metadata": {},
   "source": [
    "# Momentum and AdaGrad \n",
    "Presented during ML reading group, 2019-11-12.\n",
    "\n",
    "Author: Ivan Bogdan-Daniel, ibogdanidaniel@gmail.com"
   ]
  },
  {
   "cell_type": "code",
   "execution_count": 1,
   "metadata": {
    "ExecuteTime": {
     "end_time": "2019-11-11T14:27:23.928023Z",
     "start_time": "2019-11-11T14:27:22.054962Z"
    }
   },
   "outputs": [
    {
     "name": "stdout",
     "output_type": "stream",
     "text": [
      "Numpy version: 1.16.5\n"
     ]
    }
   ],
   "source": [
    "#%matplotlib notebook\n",
    "%matplotlib inline\n",
    "import numpy as np\n",
    "import matplotlib as mpl\n",
    "import matplotlib.pyplot as plt\n",
    "from mpl_toolkits.mplot3d import Axes3D\n",
    "\n",
    "\n",
    "print(f'Numpy version: {np.__version__}')"
   ]
  },
  {
   "cell_type": "markdown",
   "metadata": {},
   "source": [
    "# AdaDelta"
   ]
  },
  {
   "cell_type": "markdown",
   "metadata": {
    "ExecuteTime": {
     "end_time": "2019-11-05T18:01:04.782951Z",
     "start_time": "2019-11-05T18:01:04.728909Z"
    }
   },
   "source": [
    "The [AdaDelta paper](https://arxiv.org/pdf/1212.5701.pdf) \n",
    "\n",
    "The idea presented in this paper was derived from ADAGRAD in order to improve upon the two main drawbacks of the method:\n",
    "\n",
    "1) the continual decay of learning rates throughout training\n",
    "\n",
    "2) the need for a manually selected global learning rate. \n",
    "\n",
    "\n",
    "\n",
    "AdaGrad comes with:\n",
    "$$w_{t+1}^{(j)} = w_{t}^{(j)} - \\frac{\\eta}{\\sqrt{\\varepsilon + \\sum_{\\tau=1}^{t}{(g_{\\tau}^{(j)}})^2}} \\nabla J_{w}(w_t^{(j)})$$\n",
    "where $g_{\\tau}$ is the gradient of error function at iteration $\\tau$, $g_{\\tau}^{(j)}$ is the partial derivative of the \n",
    "error function in direction of the $j$ - th feature, at iteration $\\tau$, $m$ - is the number of features, i.e. \n",
    "\n",
    "The problem appears in the sum:\n",
    "\n",
    "$${\\varepsilon + \\sum_{\\tau=1}^{t}{(g_{\\tau}^{(j)}})^2}$$\n",
    "\n",
    "It grows into a very large number making the fraction $$\\frac{\\eta}{\\sqrt{\\varepsilon + \\sum_{\\tau=1}^{t}{(g_{\\tau}^{(j)}})^2}}$$ become an insignificant number. The\n",
    "learning rate will continue to decrease throughout training,\n",
    "eventually decreasing to zero and stopping training completely. \n",
    "\n",
    "\n",
    "\n",
    "\n"
   ]
  },
  {
   "cell_type": "markdown",
   "metadata": {
    "ExecuteTime": {
     "end_time": "2019-11-11T14:45:48.468503Z",
     "start_time": "2019-11-11T14:45:48.460524Z"
    }
   },
   "source": [
    "# Solution\n",
    "\n",
    "Instead of accumulating the sum of squared gradients over all\n",
    "time, we restricted the window of past gradients that are accumulated to be some fixed size w.\n",
    "\n",
    "Since storing w previous squared gradients is inefficient,\n",
    "our methods implements this accumulation as an exponentially decaying average of the squared gradients\n",
    "\n",
    "This ensures that learning continues\n",
    "to make progress even after many iterations of updates have\n",
    "been done.\n",
    "\n",
    "At time t this average is: $$E[g^2]_{t}$$ then we compute:\n",
    "\n",
    "$$E[g^2]_{t}=\\rho E[g^2]_{t-1}+(1-\\rho)g^2_{t}$$\n",
    "\n",
    "Where $$\\rho$$ is a hyper parameter similar to the one used in momentum, it can take values between 0 and 1, generally 0.95 is recommended.\n",
    "\n",
    "Since we require the square root of this quantity:\n",
    "\n",
    "$$RMS[g]_{t} = \\sqrt{E[g^2]_{t}+\\epsilon}$$\n",
    "\n",
    "The parameter update becomes:\n",
    "\n",
    "$$w_{t+1}^{(j)} = w_{t}^{(j)} - \\frac{\\eta}{RMS[g]_{t}} g_{t}$$\n",
    "\n",
    "AdaDelta rule:\n",
    "\n",
    "$$w_{t+1}^{(j)} = w_{t}^{(j)} - \\frac{RMS[w]_{t-1}}{RMS[g]_{t}} g_{t}$$"
   ]
  },
  {
   "cell_type": "markdown",
   "metadata": {},
   "source": [
    "## Generate data"
   ]
  },
  {
   "cell_type": "code",
   "execution_count": 2,
   "metadata": {
    "ExecuteTime": {
     "end_time": "2019-11-11T14:27:24.247948Z",
     "start_time": "2019-11-11T14:27:23.931016Z"
    }
   },
   "outputs": [],
   "source": [
    "from scipy.sparse import random #to generate sparse data\n",
    "\n",
    "np.random.seed(10) # for reproducibility\n",
    "m_data = 100\n",
    "n_data = 4 #number of features of the data\n",
    "_scales = np.array([1,10, 10,1 ]) # play with these... \n",
    "\n",
    "_parameters = np.array([3, 0.5, 1, 7])\n",
    "\n",
    "def gen_data(m, n, scales, parameters, add_noise=True):\n",
    "    # Adagrad is designed especially for sparse data.\n",
    "    # produce: X, a 2d tensor with m lines and n columns\n",
    "    # and X[:, k] uniformly distributed in [-scale_k, scale_k] with the first and the last column containing sparse data \n",
    "    #(approx 75% of the elements are 0)\n",
    "    #\n",
    "    # To generate a sparse data matrix with m rows and n columns\n",
    "    # and random values use S = random(m, n, density=0.25).A, where density = density of the data. S will be the \n",
    "    # resulting matrix \n",
    "    # more information at https://docs.scipy.org/doc/scipy/reference/generated/scipy.sparse.random.html\n",
    "    #\n",
    "    # To obtain X - generate a random matrix with X[:, k] uniformly distributed in [-scale_k, scale_k]\n",
    "    # set X[:, 0] and X[:, -1] to 0 and add matrix S with the sparse data.\n",
    "    #\n",
    "    # let y be X@parameters.T + epsilon, with epsilon ~ N(0, 1); y is a vector with m elements\n",
    "    # parameters - the ideal weights, used to produce output values y\n",
    "    #\n",
    "    \n",
    "   \n",
    "    return X, y"
   ]
  },
  {
   "cell_type": "code",
   "execution_count": 3,
   "metadata": {
    "ExecuteTime": {
     "end_time": "2019-11-11T14:27:24.266866Z",
     "start_time": "2019-11-11T14:27:24.249900Z"
    }
   },
   "outputs": [
    {
     "name": "stdout",
     "output_type": "stream",
     "text": [
      "[[ 1.28428476e-01 -9.58496101e+00  3.03724491e+00  5.66402849e-01]\n",
      " [ 0.00000000e+00 -5.50406709e+00 -6.03874270e+00  0.00000000e+00]\n",
      " [ 0.00000000e+00 -8.23320372e+00  3.70719637e+00  0.00000000e+00]\n",
      " [ 0.00000000e+00  2.43845268e-01  6.25241923e+00  0.00000000e+00]\n",
      " [ 0.00000000e+00 -4.16247864e+00  8.35548245e+00  0.00000000e+00]\n",
      " [ 0.00000000e+00 -7.15659905e+00 -2.41271256e+00  0.00000000e+00]\n",
      " [ 0.00000000e+00 -8.76767173e-01  2.35533957e+00  0.00000000e+00]\n",
      " [ 0.00000000e+00  2.81450742e+00  6.92397429e+00  0.00000000e+00]\n",
      " [ 0.00000000e+00 -3.61527822e+00 -8.19081301e+00  0.00000000e+00]\n",
      " [ 0.00000000e+00  6.57362653e+00 -9.06207361e+00  0.00000000e+00]\n",
      " [ 0.00000000e+00  6.38573991e+00 -6.02104921e+00  0.00000000e+00]\n",
      " [ 8.70617442e-01  5.09295383e+00 -4.08076586e+00  0.00000000e+00]\n",
      " [ 0.00000000e+00 -6.69968205e+00 -1.60699768e+00  0.00000000e+00]\n",
      " [ 2.25025940e-01 -5.99602037e+00 -2.31771103e+00  0.00000000e+00]\n",
      " [ 0.00000000e+00 -8.73909058e-01  6.52245688e+00  0.00000000e+00]\n",
      " [ 0.00000000e+00  8.05663521e+00  6.91158976e-01  3.11049320e-01]\n",
      " [ 6.99230218e-01 -2.85636483e+00 -8.29397744e+00  1.20066250e-01]\n",
      " [ 4.35560520e-01  5.47660592e+00 -9.20081583e+00  0.00000000e+00]\n",
      " [ 0.00000000e+00  2.72982286e+00 -3.07305700e+00  0.00000000e+00]\n",
      " [ 0.00000000e+00  5.26481174e+00  7.56193285e+00  0.00000000e+00]\n",
      " [ 0.00000000e+00  4.93441801e-01  1.95673296e+00  4.72786595e-01]\n",
      " [ 0.00000000e+00 -9.49200436e+00 -3.54633767e+00  9.36627065e-01]\n",
      " [ 5.66848670e-01  1.31014040e+00  8.75673187e-03  0.00000000e+00]\n",
      " [ 0.00000000e+00  9.57638292e+00 -3.20584313e+00  0.00000000e+00]\n",
      " [ 0.00000000e+00 -1.18452350e+00 -3.63454389e+00  0.00000000e+00]\n",
      " [ 7.66727043e-01  8.03185874e+00 -8.63805453e+00  3.99611848e-01]\n",
      " [ 8.33878745e-01  4.37205621e+00  1.72043960e+00  0.00000000e+00]\n",
      " [ 2.20553036e-01  1.26381369e+00 -3.93728612e+00  5.17770641e-01]\n",
      " [ 6.59370483e-01 -6.81612533e+00 -8.99044660e+00  0.00000000e+00]\n",
      " [ 0.00000000e+00 -5.71328276e+00  8.14395285e+00  0.00000000e+00]\n",
      " [ 0.00000000e+00  5.04992340e+00 -7.76788679e+00  0.00000000e+00]\n",
      " [ 0.00000000e+00  2.71701689e+00 -7.04759615e+00  0.00000000e+00]\n",
      " [ 0.00000000e+00 -9.02743987e+00 -4.80746491e+00  0.00000000e+00]\n",
      " [ 0.00000000e+00 -1.50338618e+00  8.44465574e+00  0.00000000e+00]\n",
      " [ 0.00000000e+00  6.69417700e-01 -9.70279951e+00  0.00000000e+00]\n",
      " [ 0.00000000e+00  5.83513993e+00  1.23114721e+00  0.00000000e+00]\n",
      " [ 0.00000000e+00  4.17699653e+00 -7.02933097e+00  0.00000000e+00]\n",
      " [ 0.00000000e+00 -7.90760511e+00 -1.20789524e+00  0.00000000e+00]\n",
      " [ 0.00000000e+00  6.38071728e+00 -8.19786531e+00  4.69963406e-01]\n",
      " [ 0.00000000e+00  2.31111174e+00 -6.03798686e+00  1.11351480e-01]\n",
      " [ 9.75478840e-01 -9.24884648e+00 -9.23008644e+00  0.00000000e+00]\n",
      " [ 0.00000000e+00  1.14590812e+00 -2.29772801e+00  0.00000000e+00]\n",
      " [ 0.00000000e+00  2.79623787e+00  5.65429636e+00  0.00000000e+00]\n",
      " [ 2.00911953e-01  5.62121235e+00  2.39389944e+00  3.75041373e-01]\n",
      " [ 0.00000000e+00 -6.47915733e+00 -8.29715875e-01  6.03607471e-01]\n",
      " [ 0.00000000e+00  6.91102632e+00 -6.50372210e+00  0.00000000e+00]\n",
      " [ 0.00000000e+00  4.85349155e+00 -8.66049294e-01  7.21664254e-01]\n",
      " [ 0.00000000e+00 -3.22641734e+00 -8.10681919e+00  0.00000000e+00]\n",
      " [ 0.00000000e+00 -5.88099483e+00  2.45394163e+00  6.81639561e-01]\n",
      " [ 0.00000000e+00  6.30635176e+00 -2.97572994e+00  0.00000000e+00]\n",
      " [ 0.00000000e+00  5.69733437e+00 -2.13161775e+00  0.00000000e+00]\n",
      " [ 0.00000000e+00 -4.54964959e+00  6.58803840e+00  0.00000000e+00]\n",
      " [ 0.00000000e+00  2.88653230e+00 -5.73626869e+00  0.00000000e+00]\n",
      " [ 0.00000000e+00 -3.26135909e+00  7.69127763e+00  4.74423672e-02]\n",
      " [ 0.00000000e+00 -9.01609684e+00 -6.30746324e+00  0.00000000e+00]\n",
      " [ 0.00000000e+00  8.38569350e+00 -8.43009761e-01  4.88265796e-01]\n",
      " [ 0.00000000e+00 -1.93060319e+00 -9.51134710e+00  0.00000000e+00]\n",
      " [ 0.00000000e+00  4.18211928e+00 -2.88455314e+00  2.54448656e-01]\n",
      " [ 0.00000000e+00  7.62950343e-01  1.18173033e+00  0.00000000e+00]\n",
      " [ 0.00000000e+00 -1.42505342e+00  3.62241299e-01  4.42430961e-01]\n",
      " [ 0.00000000e+00 -2.07116242e+00  5.86546466e+00  2.98494435e-01]\n",
      " [ 1.61042178e-01  6.80494632e+00  1.38542799e+00  0.00000000e+00]\n",
      " [ 0.00000000e+00 -5.42435334e+00  2.29403426e+00  0.00000000e+00]\n",
      " [ 0.00000000e+00  2.55123705e+00  6.42432952e+00  0.00000000e+00]\n",
      " [ 2.06067511e-01  2.02103782e+00  9.07080981e+00  0.00000000e+00]\n",
      " [ 0.00000000e+00 -7.55328158e+00 -8.25515416e-01  0.00000000e+00]\n",
      " [ 0.00000000e+00 -6.13492535e+00 -9.06521546e+00  0.00000000e+00]\n",
      " [ 0.00000000e+00  6.55806351e+00  1.01772887e+01  0.00000000e+00]\n",
      " [ 0.00000000e+00 -7.06462371e+00 -7.72079382e+00  0.00000000e+00]\n",
      " [ 0.00000000e+00 -3.57715937e+00  2.76070163e+00  0.00000000e+00]\n",
      " [ 6.56868150e-01 -3.24490706e+00  7.96048618e+00  2.13258235e-01]\n",
      " [ 0.00000000e+00 -1.18477010e+00  8.73920010e+00  0.00000000e+00]\n",
      " [ 0.00000000e+00 -6.87231918e+00 -8.26061182e+00  9.25358895e-01]\n",
      " [ 0.00000000e+00  1.68111745e+00  7.56932357e+00  0.00000000e+00]\n",
      " [ 9.70500250e-01  2.90455491e+00 -8.86743594e+00  0.00000000e+00]\n",
      " [ 8.49714595e-02 -6.21941094e+00  6.76473462e+00  0.00000000e+00]\n",
      " [ 0.00000000e+00 -6.44422503e+00 -8.34759417e+00  0.00000000e+00]\n",
      " [ 0.00000000e+00  3.92616544e+00 -5.90476772e+00  0.00000000e+00]\n",
      " [ 0.00000000e+00 -8.39994438e+00  9.26715011e+00  0.00000000e+00]\n",
      " [ 9.35356900e-01 -8.34725974e+00 -3.09526420e+00  0.00000000e+00]\n",
      " [ 0.00000000e+00 -5.84145804e+00 -6.39318116e+00  0.00000000e+00]\n",
      " [ 0.00000000e+00 -4.71605148e+00  2.06635691e-01  0.00000000e+00]\n",
      " [ 0.00000000e+00 -1.00970445e+00  2.02880752e+00  5.91105935e-01]\n",
      " [ 0.00000000e+00  4.41599804e+00  1.01612128e+00  0.00000000e+00]\n",
      " [ 0.00000000e+00 -6.30856527e+00  2.82673574e+00  3.80136209e-02]\n",
      " [ 0.00000000e+00  2.52287338e+00  1.99614283e-01  0.00000000e+00]\n",
      " [ 0.00000000e+00  7.09374326e-01 -3.14713749e+00  0.00000000e+00]\n",
      " [ 0.00000000e+00  8.91879035e+00  2.89640857e+00  0.00000000e+00]\n",
      " [ 7.50011376e-01  8.06343479e+00 -8.93081739e+00  0.00000000e+00]\n",
      " [ 6.02331842e-01  8.61280010e+00  8.68143801e+00  4.38024101e-01]\n",
      " [ 0.00000000e+00 -7.66241121e+00  6.12763435e+00  0.00000000e+00]\n",
      " [ 7.76805449e-01 -2.85073604e+00  6.33893988e+00  7.71342899e-01]\n",
      " [ 0.00000000e+00  5.09447132e+00 -4.54947648e+00  0.00000000e+00]\n",
      " [ 9.81989522e-01  1.13241385e+00 -1.18525885e+00  0.00000000e+00]\n",
      " [ 0.00000000e+00  5.12764716e+00 -9.25355982e+00  0.00000000e+00]\n",
      " [ 9.68976460e-01 -7.11350855e+00  2.28392467e+00  0.00000000e+00]\n",
      " [ 0.00000000e+00 -3.56868835e+00 -8.64289378e+00  0.00000000e+00]\n",
      " [ 0.00000000e+00 -6.78294601e+00 -4.64223629e+00  0.00000000e+00]\n",
      " [ 0.00000000e+00 -6.96627151e+00 -9.08545612e+00  0.00000000e+00]\n",
      " [ 0.00000000e+00  6.50929057e+00 -1.15378473e+00  0.00000000e+00]]\n",
      "[  2.0024736   -6.6694714   -2.43545494   4.33951713   5.95881325\n",
      "  -5.68591574   2.0358535    8.26592253  -8.58164616  -4.90478044\n",
      "  -4.25251071   3.29224634  -2.26898874  -3.58260985   6.55072984\n",
      "   7.82513886  -7.24300833  -4.16990542  -1.78616165   7.96925265\n",
      "   5.21768494  -0.89471119   2.54687286   0.91195781  -3.89737864\n",
      "   0.65691508   6.45566764   1.24756009 -10.41615208   5.14639228\n",
      "  -4.30241788  -4.13246337  -8.47866984   7.23655925  -7.81483692\n",
      "   3.05844197  -4.04251292  -6.19476221  -1.06966314  -5.1019856\n",
      "  -9.65191646  -2.10656506   7.81272642   9.29811209   0.89853123\n",
      "  -2.50316116   7.97039694 -10.49050576   4.16254498   0.15999857\n",
      "   0.46929628   4.31380324  -5.97022422   6.62998753 -10.87680885\n",
      "   8.00641106 -10.53002665   0.4227351    0.9277499    3.46386573\n",
      "   7.72178422   5.26929615  -0.7254132    6.56171771  11.07089748\n",
      "  -3.53630748 -12.19065404  11.47558689 -10.17153586   0.56926885\n",
      "  10.69790793   8.80244795  -4.65272321   8.43087792  -3.58940664\n",
      "   4.32021797 -12.69034642  -5.64588293   5.16202517  -4.3180381\n",
      "  -8.19561253  -1.32998579   4.09818321   2.2249444    0.25579068\n",
      "   1.32798135  -2.4784993    8.13143279  -3.57118809  17.78136899\n",
      "   1.91749245  11.38595428  -2.87278321   1.02600309  -6.958641\n",
      "   0.31297435 -11.35389443  -6.89797032 -13.38002989   2.79790438]\n"
     ]
    }
   ],
   "source": [
    "X, y = gen_data(m_data, n_data, _scales, _parameters)\n",
    "print(X)\n",
    "print(y)"
   ]
  },
  {
   "cell_type": "markdown",
   "metadata": {},
   "source": [
    "## Define error function, gradient, inference"
   ]
  },
  {
   "cell_type": "code",
   "execution_count": 4,
   "metadata": {
    "ExecuteTime": {
     "end_time": "2019-11-11T14:27:24.273471Z",
     "start_time": "2019-11-11T14:27:24.269896Z"
    }
   },
   "outputs": [],
   "source": [
    "def model_estimate(X, w):\n",
    "    '''Computes the linear regression estimation on the dataset X, using coefficients w\n",
    "    :param X: 2d tensor with m_data lines and n_data columns\n",
    "    :param w: a 1d tensor with n_data coefficients (no intercept)\n",
    "    :return: a 1d tensor with m_data elements y_hat = w @X.T\n",
    "    '''\n",
    "    \n",
    "    return y_hat "
   ]
  },
  {
   "cell_type": "code",
   "execution_count": 5,
   "metadata": {
    "ExecuteTime": {
     "end_time": "2019-11-11T14:27:24.281836Z",
     "start_time": "2019-11-11T14:27:24.275832Z"
    }
   },
   "outputs": [],
   "source": [
    "def J(X, y, w):\n",
    "    \"\"\"Computes the mean squared error of model. See the picture from last week's sheet.\n",
    "    :param X: input values, of shape m_data x n_data\n",
    "    :param y: ground truth, column vector with m_data values\n",
    "    :param w: column with n_data coefficients for the linear form \n",
    "    :return: a scalar value >= 0\n",
    "    :use the same formula as in the exercise from last week\n",
    "    \"\"\"\n",
    "    \n",
    "    return err"
   ]
  },
  {
   "cell_type": "code",
   "execution_count": 6,
   "metadata": {
    "ExecuteTime": {
     "end_time": "2019-11-11T14:27:24.292786Z",
     "start_time": "2019-11-11T14:27:24.284812Z"
    }
   },
   "outputs": [],
   "source": [
    "def gradient(X, y, w):\n",
    "    '''Commputes the gradients to be used for gradient descent. \n",
    "    :param X: 2d tensor with training data\n",
    "    :param y: 1d tensor with y.shape[0] == W.shape[0]\n",
    "    :param w: 1d tensor with current values of the coefficients\n",
    "    :return: gradients to be used for gradient descent. \n",
    "    :use the same formula as in the exercise from last week\n",
    "    '''\n",
    "    \n",
    "    return grad## implement"
   ]
  },
  {
   "cell_type": "markdown",
   "metadata": {},
   "source": [
    "## Momentum algorithm"
   ]
  },
  {
   "cell_type": "code",
   "execution_count": 7,
   "metadata": {
    "ExecuteTime": {
     "end_time": "2019-11-11T14:27:24.307746Z",
     "start_time": "2019-11-11T14:27:24.296790Z"
    }
   },
   "outputs": [],
   "source": [
    "#The function from last week for comparison\n",
    "def gd_with_momentum(X, y, w_init, eta=1e-1, gamma = 0.9, thresh = 0.001):\n",
    "    \"\"\"Applies gradient descent with momentum coefficient\n",
    "    :params: as in gd_no_momentum\n",
    "    :param gamma: momentum coefficient\n",
    "    :param thresh: the threshold for gradient norm (to stop iterations)\n",
    "    :return: the list of succesive errors and the found w* vector \n",
    "    \"\"\"\n",
    "    w = w_init\n",
    "    w_err=[]\n",
    "   \n",
    "    delta = np.zeros_like(w)\n",
    "    while True:\n",
    "        grad = gradient(X, y, w)\n",
    "        err = J(X, y, w)\n",
    "        w_err.append(err)\n",
    "        w_nou = w + gamma * delta - eta * grad\n",
    "        delta = w_nou - w\n",
    "        w = w_nou\n",
    "       \n",
    "        if np.linalg.norm(grad) < thresh :\n",
    "            break;\n",
    "    return w_err, w"
   ]
  },
  {
   "cell_type": "code",
   "execution_count": 8,
   "metadata": {
    "ExecuteTime": {
     "end_time": "2019-11-11T14:27:26.394440Z",
     "start_time": "2019-11-11T14:27:24.310791Z"
    }
   },
   "outputs": [],
   "source": [
    "w_init = np.array([0, 0, 0, 0])\n",
    "errors_momentum, w_best = gd_with_momentum(X, y, w_init,0.0001, 0.9)"
   ]
  },
  {
   "cell_type": "code",
   "execution_count": 9,
   "metadata": {
    "ExecuteTime": {
     "end_time": "2019-11-11T14:27:26.401148Z",
     "start_time": "2019-11-11T14:27:26.396199Z"
    }
   },
   "outputs": [
    {
     "name": "stdout",
     "output_type": "stream",
     "text": [
      "How many iterations were made: 102146\n"
     ]
    }
   ],
   "source": [
    "print(f'How many iterations were made: {len(errors_momentum)}')"
   ]
  },
  {
   "cell_type": "code",
   "execution_count": 10,
   "metadata": {
    "ExecuteTime": {
     "end_time": "2019-11-11T14:27:26.411122Z",
     "start_time": "2019-11-11T14:27:26.403144Z"
    }
   },
   "outputs": [
    {
     "data": {
      "text/plain": [
       "array([2.96488751, 0.48443821, 0.9629436 , 7.32967655])"
      ]
     },
     "execution_count": 10,
     "metadata": {},
     "output_type": "execute_result"
    }
   ],
   "source": [
    "w_best"
   ]
  },
  {
   "cell_type": "code",
   "execution_count": 11,
   "metadata": {
    "ExecuteTime": {
     "end_time": "2019-11-11T14:27:26.715866Z",
     "start_time": "2019-11-11T14:27:26.414114Z"
    }
   },
   "outputs": [
    {
     "data": {
      "text/plain": [
       "Text(0.5, 1.0, 'Optimization with momentum')"
      ]
     },
     "execution_count": 11,
     "metadata": {},
     "output_type": "execute_result"
    },
    {
     "data": {
      "image/png": "[encoded data removed]",
      "text/plain": [
       "<Figure size 432x288 with 1 Axes>"
      ]
     },
     "metadata": {
      "needs_background": "light"
     },
     "output_type": "display_data"
    }
   ],
   "source": [
    "fig, axes = plt.subplots()\n",
    "axes.plot(list(range(len(errors_momentum))), errors_momentum)\n",
    "axes.set_xlabel('Epochs')\n",
    "axes.set_ylabel('Error')\n",
    "axes.set_title('Optimization with momentum')"
   ]
  },
  {
   "cell_type": "markdown",
   "metadata": {},
   "source": [
    "## Apply AdaGrad and report resulting $\\eta$'s"
   ]
  },
  {
   "cell_type": "code",
   "execution_count": 12,
   "metadata": {
    "ExecuteTime": {
     "end_time": "2019-11-11T14:27:26.724863Z",
     "start_time": "2019-11-11T14:27:26.717989Z"
    }
   },
   "outputs": [],
   "source": [
    "def ada_grad(X, y, w_init, eta_init=1e-1,  eps = 0.001, thresh = 0.001):\n",
    "    '''Iterates with gradient descent. algorithm\n",
    "    :param X: 2d tensor with data\n",
    "    :param y: 1d tensor, ground truth \n",
    "    :param w_init: 1d tensor with the X.shape[1] initial coefficients\n",
    "    :param eta_init: the initial learning rate hyperparameter\n",
    "    :param eps: the epsilon value from the AdaGrad formula\n",
    "    :param thresh: the threshold for gradient norm (to stop iterations)\n",
    "    :return: the list of succesive errors w_err, the found w - the estimated feature vector \n",
    "    :and rates the learning rates after the final iteration \n",
    "    '''\n",
    "     \n",
    "    n = X.shape[1]\n",
    "    w = w_init\n",
    "    w_err=[]\n",
    "   \n",
    "    sum_sq_grad = np.zeros(n)\n",
    "    rates = np.zeros(n)  + eta_init\n",
    "    \n",
    "    while True:\n",
    "        grad = gradient(X, y, w)\n",
    "        pgrad = grad**2\n",
    "        err = J(X, y, w)\n",
    "        w_err.append(err)\n",
    "        prod = rates*grad\n",
    "                \n",
    "        w = w - prod\n",
    "        sum_sq_grad += pgrad\n",
    "        rates = eta_init/np.sqrt(eps + sum_sq_grad)\n",
    "       \n",
    "        \n",
    "        if np.linalg.norm(grad) < thresh:\n",
    "             break;\n",
    "    return w_err, w, rates"
   ]
  },
  {
   "cell_type": "code",
   "execution_count": 13,
   "metadata": {
    "ExecuteTime": {
     "end_time": "2019-11-11T14:27:26.975174Z",
     "start_time": "2019-11-11T14:27:26.726838Z"
    }
   },
   "outputs": [
    {
     "name": "stdout",
     "output_type": "stream",
     "text": [
      "[0.01515786 0.00157473 0.00021369 0.01046079]\n"
     ]
    }
   ],
   "source": [
    "w_init = np.array([0,0,0,0])\n",
    "adaGerr, w_ada_best, rates = ada_grad(X, y, w_init)\n",
    "print(rates)"
   ]
  },
  {
   "cell_type": "code",
   "execution_count": 14,
   "metadata": {
    "ExecuteTime": {
     "end_time": "2019-11-11T14:27:26.981159Z",
     "start_time": "2019-11-11T14:27:26.976170Z"
    }
   },
   "outputs": [
    {
     "name": "stdout",
     "output_type": "stream",
     "text": [
      "How many iterations were made: 9106\n"
     ]
    }
   ],
   "source": [
    "print(f'How many iterations were made: {len(adaGerr)}')"
   ]
  },
  {
   "cell_type": "code",
   "execution_count": 15,
   "metadata": {
    "ExecuteTime": {
     "end_time": "2019-11-11T14:27:26.994788Z",
     "start_time": "2019-11-11T14:27:26.984152Z"
    }
   },
   "outputs": [
    {
     "data": {
      "text/plain": [
       "array([2.9633901 , 0.48443559, 0.96293089, 7.32943788])"
      ]
     },
     "execution_count": 15,
     "metadata": {},
     "output_type": "execute_result"
    }
   ],
   "source": [
    "w_ada_best"
   ]
  },
  {
   "cell_type": "code",
   "execution_count": 16,
   "metadata": {
    "ExecuteTime": {
     "end_time": "2019-11-11T14:27:27.165721Z",
     "start_time": "2019-11-11T14:27:26.996143Z"
    }
   },
   "outputs": [
    {
     "data": {
      "text/plain": [
       "Text(0.5, 1.0, 'Optimization with AdaGrad')"
      ]
     },
     "execution_count": 16,
     "metadata": {},
     "output_type": "execute_result"
    },
    {
     "data": {
      "image/png": "[encoded data removed]",
      "text/plain": [
       "<Figure size 432x288 with 1 Axes>"
      ]
     },
     "metadata": {
      "needs_background": "light"
     },
     "output_type": "display_data"
    }
   ],
   "source": [
    "fig, axes = plt.subplots()\n",
    "axes.plot(list(range(len(adaGerr))),adaGerr)\n",
    "axes.set_xlabel('Epochs')\n",
    "axes.set_ylabel('Error')\n",
    "axes.set_title('Optimization with AdaGrad')"
   ]
  },
  {
   "cell_type": "markdown",
   "metadata": {},
   "source": [
    "## Apply AdaDelta and report resulting $\\eta$'s"
   ]
  },
  {
   "cell_type": "code",
   "execution_count": 17,
   "metadata": {
    "ExecuteTime": {
     "end_time": "2019-11-11T14:27:27.174643Z",
     "start_time": "2019-11-11T14:27:27.167658Z"
    }
   },
   "outputs": [],
   "source": [
    "def ada_delta(X, y, w_init, eta_init=1e-1, gamma=0.99,  eps = 0.001, thresh = 0.001):\n",
    "    '''Iterates with gradient descent. algorithm\n",
    "    :param X: 2d tensor with data\n",
    "    :param y: 1d tensor, ground truth \n",
    "    :param w_init: 1d tensor with the X.shape[1] initial coefficients\n",
    "    :param eta_init: the initial learning rate hyperparameter\n",
    "    :param gamma: decay constant, similar to momentum\n",
    "    :param eps: the epsilon value from the AdaGrad formula\n",
    "    :param thresh: the threshold for gradient norm (to stop iterations)\n",
    "    :return: the list of succesive errors w_err, the found w - the estimated feature vector \n",
    "    :and rates the learning rates after the final iteration \n",
    "    '''\n",
    "     \n",
    "    #todo\n",
    "    #same as adagrad but instead of summing the square of gradients\n",
    "    #use the adadelta formula for decaying average"
   ]
  },
  {
   "cell_type": "code",
   "execution_count": 24,
   "metadata": {
    "ExecuteTime": {
     "end_time": "2019-11-11T14:29:31.674672Z",
     "start_time": "2019-11-11T14:29:31.663256Z"
    }
   },
   "outputs": [
    {
     "name": "stdout",
     "output_type": "stream",
     "text": [
      "[1.27981839 0.03944876 0.01893041 1.14190179]\n"
     ]
    }
   ],
   "source": [
    "w_init = np.array([0,0,0,0])\n",
    "adaDerr, w_adad_best, rates = ada_delta(X, y, w_init)\n",
    "print(rates)"
   ]
  },
  {
   "cell_type": "code",
   "execution_count": 25,
   "metadata": {
    "ExecuteTime": {
     "end_time": "2019-11-11T14:29:32.620492Z",
     "start_time": "2019-11-11T14:29:32.614545Z"
    }
   },
   "outputs": [
    {
     "name": "stdout",
     "output_type": "stream",
     "text": [
      "How many iterations were made: 109\n"
     ]
    }
   ],
   "source": [
    "print(f'How many iterations were made: {len(adaDerr)}')"
   ]
  },
  {
   "cell_type": "code",
   "execution_count": 27,
   "metadata": {
    "ExecuteTime": {
     "end_time": "2019-11-11T14:29:37.270415Z",
     "start_time": "2019-11-11T14:29:37.264495Z"
    }
   },
   "outputs": [
    {
     "data": {
      "text/plain": [
       "array([2.96386102, 0.48443925, 0.96293854, 7.3310413 ])"
      ]
     },
     "execution_count": 27,
     "metadata": {},
     "output_type": "execute_result"
    }
   ],
   "source": [
    "w_adad_best"
   ]
  },
  {
   "cell_type": "code",
   "execution_count": 28,
   "metadata": {
    "ExecuteTime": {
     "end_time": "2019-11-11T14:29:38.699635Z",
     "start_time": "2019-11-11T14:29:38.543403Z"
    }
   },
   "outputs": [
    {
     "data": {
      "text/plain": [
       "Text(0.5, 1.0, 'Optimization with AdaDelta')"
      ]
     },
     "execution_count": 28,
     "metadata": {},
     "output_type": "execute_result"
    },
    {
     "data": {
      "image/png": "[encoded data removed]",
      "text/plain": [
       "<Figure size 432x288 with 1 Axes>"
      ]
     },
     "metadata": {
      "needs_background": "light"
     },
     "output_type": "display_data"
    }
   ],
   "source": [
    "fig, axes = plt.subplots()\n",
    "axes.plot(list(range(len(adaDerr))),adaDerr)\n",
    "axes.set_xlabel('Epochs')\n",
    "axes.set_ylabel('Error')\n",
    "axes.set_title('Optimization with AdaDelta')"
   ]
  },
  {
   "cell_type": "code",
   "execution_count": null,
   "metadata": {},
   "outputs": [],
   "source": []
  }
 ],
 "metadata": {
  "kernelspec": {
   "display_name": "Python 3",
   "language": "python",
   "name": "python3"
  },
  "language_info": {
   "codemirror_mode": {
    "name": "ipython",
    "version": 3
   },
   "file_extension": ".py",
   "mimetype": "text/x-python",
   "name": "python",
   "nbconvert_exporter": "python",
   "pygments_lexer": "ipython3",
   "version": "3.7.4"
  },
  "notify_time": "5",
  "toc": {
   "base_numbering": 1,
   "nav_menu": {},
   "number_sections": true,
   "sideBar": true,
   "skip_h1_title": false,
   "title_cell": "Table of Contents",
   "title_sidebar": "Contents",
   "toc_cell": false,
   "toc_position": {
    "height": "calc(100% - 180px)",
    "left": "10px",
    "top": "150px",
    "width": "290.712px"
   },
   "toc_section_display": true,
   "toc_window_display": false
  },
  "varInspector": {
   "cols": {
    "lenName": 16,
    "lenType": 16,
    "lenVar": 40
   },
   "kernels_config": {
    "python": {
     "delete_cmd_postfix": "",
     "delete_cmd_prefix": "del ",
     "library": "var_list.py",
     "varRefreshCmd": "print(var_dic_list())"
    },
    "r": {
     "delete_cmd_postfix": ") ",
     "delete_cmd_prefix": "rm(",
     "library": "var_list.r",
     "varRefreshCmd": "cat(var_dic_list()) "
    }
   },
   "types_to_exclude": [
    "module",
    "function",
    "builtin_function_or_method",
    "instance",
    "_Feature"
   ],
   "window_display": false
  }
 },
 "nbformat": 4,
 "nbformat_minor": 2
}
