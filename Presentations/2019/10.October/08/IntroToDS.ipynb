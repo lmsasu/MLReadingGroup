{
 "cells": [
  {
   "cell_type": "markdown",
   "metadata": {},
   "source": [
    "# Introduction to a pythonic Data Science environment"
   ]
  },
  {
   "cell_type": "markdown", 
   "metadata": {},
   "source": [
    "## Prerequisites\n",
    "\n",
    "1. Install the latest Ancaconda distribution from: https://www.anaconda.com/distribution/\n",
    "    1. Choose Anaconda distribution with python version 3.7, if you are on Windows this should be the direct link: https://repo.anaconda.com/archive/Anaconda3-2019.07-Windows-x86_64.exe\n",
    "    2. Install Anaconda to a directory that has no spaces in its path, eg. D:\\Programs\\Anaconda3\n",
    "    3. For most part of the instalation, you should go with the recommended, predefined settings\n",
    "2. Update Anaconda and all python packages to latest version\n",
    "    1. Open the Anaconda Prompt by clicking the 'Windows' icon, or pressing the 'Windows' button on your keyboard, and typing Anaconda Prompt\n",
    "    2. Run the following commands in the Anaconda Prompt\n",
    "        1. conda update conda --yes\n",
    "        2. conda update --all --yes        \n",
    "3. (Optionally) Install one or all of the following IDEs if you want to test them on the workshop\n",
    "    1. Visual Studio Code: https://code.visualstudio.com/\n",
    "    2. PyCharm: https://www.jetbrains.com/pycharm/"
   ]
  }
 ],
 "metadata": {
  "kernelspec": {
   "display_name": "Python 3",
   "language": "python",
   "name": "python3"
  },
  "language_info": {
   "codemirror_mode": {
    "name": "ipython",
    "version": 3
   },
   "file_extension": ".py",
   "mimetype": "text/x-python",
   "name": "python",
   "nbconvert_exporter": "python",
   "pygments_lexer": "ipython3",
   "version": "3.7.3"
  }
 },
 "nbformat": 4,
 "nbformat_minor": 2
}
