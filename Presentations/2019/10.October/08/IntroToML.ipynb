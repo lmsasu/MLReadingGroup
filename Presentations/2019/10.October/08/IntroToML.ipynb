{
 "cells": [
  {
   "cell_type": "markdown",
   "metadata": {},
   "source": [
    "# Introduction to a Pythonic ML environment"
   ]
  },
  {
   "cell_type": "markdown",
   "metadata": {},
   "source": [
    "## Prerequisites\n",
    "\n",
    "1. Install the latest Anaconda distribution from: https://www.anaconda.com/distribution/\n",
    "    1. Choose Anaconda distribution with python version 3.7, if you are on Windows this should be the direct link: https://repo.anaconda.com/archive/Anaconda3-2019.07-Windows-x86_64.exe\n",
    "    2. Install Anaconda to a directory that has no spaces in its path, eg. D:\\Programs\\Anaconda3\n",
    "    3. For most part of the instalation, you should go with the recommended, predefined settings\n",
    "2. Update Anaconda and all python packages to latest version\n",
    "    1. Open the Anaconda Prompt by clicking the 'Windows' icon, or pressing the 'Windows' button on your keyboard, and typing Anaconda Prompt\n",
    "    2. Run the following commands in the Anaconda Prompt\n",
    "```\n",
    "conda update conda --yes\n",
    "conda update --all --yes # do this only initially, it will mess up your environments\n",
    "```\n",
    "3. (Optionally) Install one or all of the following IDEs if you want to test them on the workshop\n",
    "    1. Visual Studio Code: https://code.visualstudio.com/\n",
    "    2. PyCharm: https://www.jetbrains.com/pycharm/\n",
    "4. Optional, but highly recommend: install the jupyter notebook extensions:\n",
    "```\n",
    "conda install -c conda-forge jupyter_contrib_nbextensions\n",
    "```"
   ]
  },
  {
   "cell_type": "markdown",
   "metadata": {},
   "source": [
    "# Workshop\n",
    "\n",
    "## Environments\n",
    "1. Create a ML environment\n",
    "    To keep things clean and to easily sharing them.\n",
    "```\n",
    "    conda create --name <env_name> <package1, package2 ...> [python=2.7] --yes\n",
    "    conda create --name ml anaconda\n",
    "    conda create --name ml numpy, pandas, scipy, jupyter, matplotlib\n",
    "```\n",
    "1. List packages from environment\n",
    "```\n",
    "conda list\n",
    "```\n",
    "1. Clean up\n",
    "```\n",
    "conda clean --all --yes\n",
    "```\n",
    "1. Remove environment\n",
    "```\n",
    "conda remove --name <env_name>\n",
    "```\n",
    "1. Activate environment\n",
    "```\n",
    "conda activate <env_name>\n",
    "```\n",
    "\n",
    "## Pyhton from command line\n",
    "### Pyhton script from command line\n",
    "## IPyhon from command line\n",
    "## Popular IDEs for Python and IPython\n",
    "### Jupyter Notebook\n",
    "1. To open Anaconda Prompt to a specified location click [here](https://stackoverflow.com/questions/48304305/anaconda-python-change-anaconda-prompt-user-path#targetText=2%20Answers&targetText=Go%20to%20Start%20and%20search,the%20%22Start%20in%22%20box).\n",
    "1. or generate and modify config:\n",
    "```\n",
    "jupyter notebook --generate-config\n",
    "jupyter --paths\n",
    "```\n",
    "find file on disk and modify manually\n",
    "1. shortcuts\n",
    "    1. Esc + H\n",
    "1. themes\n",
    "    1. install\n",
    "    ```\n",
    "    conda install -c conda-forge jupyterthemes\n",
    "    ```\n",
    "    1. list available\n",
    "    ```\n",
    "    jt -l\n",
    "    ```\n",
    "    1. apply one\n",
    "    ```\n",
    "    jt -t chesterish\n",
    "    ```\n",
    "    1. reset to default\n",
    "    ```\n",
    "    jt -r\n",
    "    ```\n",
    "1. extensions\n",
    "    1. AutoSaveTime\n",
    "    1. Hinterland (Code autocompletion)\n",
    "    1. Variable Inspector\n",
    "    1. Execute Time\n",
    "    1. spellchecker\n",
    "    1. Table of Contents\n",
    "1. Notebook Slides and Extras:\n",
    "https://towardsdatascience.com/bringing-the-best-out-of-jupyter-notebooks-for-data-science-f0871519ca29\n",
    "\n",
    "### Visual Studio Code\n",
    "1. activate needed environment\n",
    "1. intelisense, autocompletion\n",
    "1. run Python code\n",
    "1. debug Python code\n",
    "1. run Python code as a jupyter notebook\n",
    "    1. define\n",
    "    1. run cells\n",
    "    1. export to .ipynp\n",
    "1. preview .ipynp files\n",
    "\n",
    "### PyCharm "
   ]
  }
 ],
 "metadata": {
  "kernelspec": {
   "display_name": "Python 3",
   "language": "python",
   "name": "python3"
  },
  "language_info": {
   "codemirror_mode": {
    "name": "ipython",
    "version": 3
   },
   "file_extension": ".py",
   "mimetype": "text/x-python",
   "name": "python",
   "nbconvert_exporter": "python",
   "pygments_lexer": "ipython3",
   "version": "3.7.3"
  },
  "toc": {
   "base_numbering": 1,
   "nav_menu": {},
   "number_sections": true,
   "sideBar": true,
   "skip_h1_title": true,
   "title_cell": "Table of Contents",
   "title_sidebar": "Contents",
   "toc_cell": false,
   "toc_position": {
    "height": "calc(100% - 180px)",
    "left": "10px",
    "top": "150px",
    "width": "304px"
   },
   "toc_section_display": true,
   "toc_window_display": true
  },
  "varInspector": {
   "cols": {
    "lenName": 16,
    "lenType": 16,
    "lenVar": 40
   },
   "kernels_config": {
    "python": {
     "delete_cmd_postfix": "",
     "delete_cmd_prefix": "del ",
     "library": "var_list.py",
     "varRefreshCmd": "print(var_dic_list())"
    },
    "r": {
     "delete_cmd_postfix": ") ",
     "delete_cmd_prefix": "rm(",
     "library": "var_list.r",
     "varRefreshCmd": "cat(var_dic_list()) "
    }
   },
   "types_to_exclude": [
    "module",
    "function",
    "builtin_function_or_method",
    "instance",
    "_Feature"
   ],
   "window_display": false
  }
 },
 "nbformat": 4,
 "nbformat_minor": 2
}
